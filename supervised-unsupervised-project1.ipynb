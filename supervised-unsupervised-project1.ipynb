{
  "cells": [
    {
      "cell_type": "markdown",
      "source": [
        "**about this project:** </br> \n",
        "this project is to detect attack traffic from normal traffic. I used ISCX dataset as a benchmark dataset to evaluate and compare different supervised and unsupervised methods.</br>\n",
        "**about ISCX dataset:**</br>\n",
        "ISCX is a benchmark dataset consists of 45 features and 83000 records. \n"
      ],
      "metadata": {
        "id": "oz8a4u9liOMm"
      }
    },
    {
      "cell_type": "markdown",
      "source": [
        "**in the first block :** </br>\n",
        "I just import useful packages and modules for this project. </br></br>\n",
        "here **\"sklearn\"** or **\"Scipy Toolkit Learn\"** is a machine learning package which consists of Classification, Regression and Clustering algorithms like Gradient Boosting , SVM , K-means , DB-Scan. </br>\n",
        "sklearn is so popular because it can works with science-numerical libraries in python, Scipy and Numpy very good.</br></br>\n",
        "**Feature-Selector** is a library and a simple tool that is used to do dimention reduction! It uses 5 methods to detect which features should be remove! these five methods are : </br>\n",
        "1- Missing Values, </br>\n",
        "2- Single Unique Values, </br>\n",
        "3- Collinear Features, </br>\n",
        "4- Zero Importance Features, </br>\n",
        "5- Low Importance Features.</br>\n",
        "Also **Feature-Selector** have some methods to illustrate features and their corelations like HeatMap method. \n",
        "\n"
      ],
      "metadata": {
        "id": "1mPZVu1fkyjV"
      }
    },
    {
      "cell_type": "code",
      "execution_count": null,
      "metadata": {
        "id": "yT4uIfffhyhw"
      },
      "outputs": [],
      "source": [
        "import numpy as np\n",
        "import pandas as pd\n",
        "from sklearn import preprocessing\n",
        "from sklearn import cluster\n",
        "from sklearn import mixture\n",
        "from sklearn.neighbors import kneighbors_graph\n",
        "from sklearn import metrics\n",
        "from sklearn.decomposition import PCA\n",
        "import time\n",
        "import warnings\n",
        "from sklearn.discriminant_analysis import LinearDiscriminantAnalysis\n",
        "from feature_selector import FeatureSelector\n",
        "from sklearn.preprocessing import MinMaxScaler\n",
        "\n",
        "from sklearn.model_selection import train_test_split\n",
        "from sklearn import tree\n",
        "from sklearn.metrics import classification_report\n",
        "from sklearn.metrics import precision_recall_fscore_support\n",
        "from sklearn.metrics import accuracy_score\n",
        "from sklearn.metrics import jaccard_similarity_score\n",
        "from sklearn.svm import SVC\n",
        "from sklearn.tree import DecisionTreeClassifier\n",
        "from sklearn.neural_network import MLPClassifier\n",
        "from sklearn.neighbors import KNeighborsClassifier\n",
        "from sklearn.naive_bayes import GaussianNB"
      ]
    },
    {
      "cell_type": "markdown",
      "source": [
        "In the block below, I just read main datasets which are in two csv files."
      ],
      "metadata": {
        "id": "lNNthqM4lRME"
      }
    },
    {
      "cell_type": "code",
      "execution_count": null,
      "metadata": {
        "id": "9TW9uCLKhyh6",
        "outputId": "05048044-cea7-4b23-d2bd-7b102701e71a"
      },
      "outputs": [
        {
          "name": "stderr",
          "output_type": "stream",
          "text": [
            "/home/arta/anaconda3/envs/bdks/lib/python3.5/site-packages/IPython/core/interactiveshell.py:2785: DtypeWarning: Columns (0) have mixed types. Specify dtype option on import or set low_memory=False.\n",
            "  interactivity=interactivity, compiler=compiler, result=result)\n"
          ]
        }
      ],
      "source": [
        "train_data = pd.read_csv('/media/sf_shared/base/UNB_NB15_training-set.csv',\n",
        "                             sep='\\t', lineterminator='\\r')\n",
        "test_data = pd.read_csv('/media/sf_shared/base/UNB_NB15_testing-set.csv',\n",
        "                             sep='\\t', lineterminator='\\r')"
      ]
    },
    {
      "cell_type": "markdown",
      "source": [
        "In two blocks below, I just convert csv files to excel files and save them and again I read them."
      ],
      "metadata": {
        "id": "5VAjrA6AqlR9"
      }
    },
    {
      "cell_type": "code",
      "execution_count": null,
      "metadata": {
        "id": "p4lIKo8thyh_",
        "outputId": "7ad82515-18a7-4da4-8b33-6968b2f517ac"
      },
      "outputs": [
        {
          "data": {
            "text/plain": [
              "\"train_data.to_excel('/media/sf_shared/base/train_edited.xlsx')\\ntest_data.to_excel('/media/sf_shared/base/test_edited.xlsx')\""
            ]
          },
          "execution_count": 2,
          "metadata": {},
          "output_type": "execute_result"
        }
      ],
      "source": [
        "\"\"\"train_data.to_excel('/media/sf_shared/base/train_edited.xlsx')\n",
        "test_data.to_excel('/media/sf_shared/base/test_edited.xlsx')\"\"\""
      ]
    },
    {
      "cell_type": "code",
      "execution_count": null,
      "metadata": {
        "id": "11evlUFIhyiD"
      },
      "outputs": [],
      "source": [
        "train_data = pd.read_excel('/media/sf_shared/base/train_edited.xlsx')"
      ]
    },
    {
      "cell_type": "markdown",
      "source": [
        "In the block below, I get unique values of string features and list them just to code nominal values later. </br>\n",
        "here nominal features are : Protocols, Services, States, Attack_categories."
      ],
      "metadata": {
        "id": "gWeYj9zrq8eV"
      }
    },
    {
      "cell_type": "code",
      "execution_count": null,
      "metadata": {
        "id": "KFnE0Ua2hyiF"
      },
      "outputs": [],
      "source": [
        "protocols = list(train_data['proto'].unique())\n",
        "services = list(train_data['service'].unique())\n",
        "states = list(train_data['state'].unique())\n",
        "attacks = list(train_data['attack_cat'].unique())\n",
        "# now we have all string values in a list that can be cody"
      ]
    },
    {
      "cell_type": "markdown",
      "source": [
        "in four next blocks I just assigned a number to each of the items in unique lists. every nominal feature has a for loop.  "
      ],
      "metadata": {
        "id": "J1-t2J9kwVpv"
      }
    },
    {
      "cell_type": "code",
      "execution_count": null,
      "metadata": {
        "id": "Bzd6g7rNhyiH"
      },
      "outputs": [],
      "source": [
        "for item in protocols:\n",
        "    train_data.loc[train_data['proto'] == item, 'proto'] = protocols.index(item)\n",
        "    \"\"\"test_data.loc[test_data['proto'] == item, 'proto'] = protocols.index(item)\"\"\"\n",
        "\n",
        "train_data['proto'].fillna(len(protocols)-1, inplace = True)\n",
        "\"\"\"test_data['proto'].fillna(len(protocols)-1, inplace = True)\"\"\""
      ]
    },
    {
      "cell_type": "code",
      "execution_count": null,
      "metadata": {
        "id": "BahFQIa_hyiK"
      },
      "outputs": [],
      "source": [
        "for item in services:\n",
        "    train_data.loc[train_data['service'] == item, 'service'] = services.index(item)\n",
        "    \"\"\"test_data.loc[test_data['service'] == item, 'service'] = services.index(item)\"\"\"\n",
        "\n",
        "train_data['service'].fillna(len(services)-1, inplace = True)\n",
        "\"\"\"test_data['service'].fillna(len(services)-1, inplace = True)\"\"\""
      ]
    },
    {
      "cell_type": "code",
      "execution_count": null,
      "metadata": {
        "id": "XhNPsAPphyiM"
      },
      "outputs": [],
      "source": [
        "for item in states:\n",
        "    train_data.loc[train_data['state'] == item, 'state'] = states.index(item)\n",
        "    \"\"\"test_data.loc[test_data['state'] == item, 'state'] = states.index(item)\"\"\"\n",
        "\n",
        "train_data['state'].fillna(len(states)-1, inplace = True)\n",
        "\"\"\"test_data['state'].fillna(len(states)-1, inplace = True)\"\"\""
      ]
    },
    {
      "cell_type": "code",
      "execution_count": null,
      "metadata": {
        "id": "RJ1NjOvWhyiP"
      },
      "outputs": [],
      "source": [
        "for item in attacks:\n",
        "    train_data.loc[train_data['attack_cat'] == item, 'attack_cat'] = attacks.index(item)\n",
        "    \"\"\"test_data.loc[test_data['attack_cat'] == item, 'attack_cat'] = attacks.index(item)\"\"\"\n",
        "\n",
        "train_data['attack_cat'].fillna(len(states)-1, inplace = True)\n",
        "\"\"\"test_data['attack_cat'].fillna(len(states)-1, inplace = True)\"\"\""
      ]
    },
    {
      "cell_type": "markdown",
      "source": [
        "in two blocks below, I just save these preprocessed datasets in new excel files and read them again. "
      ],
      "metadata": {
        "id": "LxaYQQI1w1NB"
      }
    },
    {
      "cell_type": "code",
      "execution_count": null,
      "metadata": {
        "id": "CTYCLqBmhyiS"
      },
      "outputs": [],
      "source": [
        "\"\"\"train_data.to_excel('/media/sf_shared/base/replaced/train.xlsx')\n",
        "test_data.to_excel('/media/sf_shared/base/replaced/test.xlsx')\"\"\""
      ]
    },
    {
      "cell_type": "code",
      "execution_count": null,
      "metadata": {
        "id": "n3nWPhmQhyiV"
      },
      "outputs": [],
      "source": [
        "train_data = pd.read_excel('/media/sf_shared/base/replaced/train.xlsx')"
      ]
    },
    {
      "cell_type": "markdown",
      "source": [
        "In this project I used Standard_Scaler for clustering tasks and so as to do unsupervised learning, I removed labels and attack_categories. "
      ],
      "metadata": {
        "id": "TbPiVFubxNqE"
      }
    },
    {
      "cell_type": "code",
      "execution_count": null,
      "metadata": {
        "id": "IUgVr2YohyiX"
      },
      "outputs": [],
      "source": [
        "std_scaler = preprocessing.StandardScaler()\n",
        "train_withlabel = train_data[['dur', 'proto', 'service', 'state', 'spkts', 'dpkts', 'sbytes',\n",
        "       'dbytes', 'rate', 'sttl', 'dttl', 'sload', 'dload', 'sloss', 'dloss',\n",
        "       'sinpkt', 'dinpkt', 'sjit', 'djit', 'swin', 'stcpb', 'dtcpb', 'dwin',\n",
        "       'tcprtt', 'synack', 'ackdat', 'smean', 'dmean', 'trans_depth',\n",
        "       'response_body_len', 'ct_srv_src', 'ct_state_ttl', 'ct_dst_ltm',\n",
        "       'ct_src_dport_ltm', 'ct_dst_sport_ltm', 'ct_dst_src_ltm',\n",
        "       'is_ftp_login', 'ct_ftp_cmd', 'ct_flw_http_mthd', 'ct_src_ltm',\n",
        "       'ct_srv_dst', 'is_sm_ips_ports', 'attack_cat', 'label']]\n",
        "train_no_liac = train_data[['dur', 'proto', 'service', 'state', 'spkts', 'dpkts', 'sbytes',\n",
        "       'dbytes', 'rate', 'sttl', 'dttl', 'sload', 'dload', 'sloss', 'dloss',\n",
        "       'sinpkt', 'dinpkt', 'sjit', 'djit', 'swin', 'stcpb', 'dtcpb', 'dwin',\n",
        "       'tcprtt', 'synack', 'ackdat', 'smean', 'dmean', 'trans_depth',\n",
        "       'response_body_len', 'ct_srv_src', 'ct_state_ttl', 'ct_dst_ltm',\n",
        "       'ct_src_dport_ltm', 'ct_dst_sport_ltm', 'ct_dst_src_ltm',\n",
        "       'is_ftp_login', 'ct_ftp_cmd', 'ct_flw_http_mthd', 'ct_src_ltm',\n",
        "       'ct_srv_dst', 'is_sm_ips_ports']]\n",
        "train = train_no_liac.reset_index()\n",
        "train = np.array(train)\n",
        "scaled_train = std_scaler.fit_transform(train)"
      ]
    },
    {
      "cell_type": "markdown",
      "source": [
        "In the next block, I saved True_labels of dataset in a numpy array to use them in next processes.</br>\n",
        "Also I used FeatureSelector for parts of preprocessing."
      ],
      "metadata": {
        "id": "2KUb80YbyEla"
      }
    },
    {
      "cell_type": "code",
      "execution_count": null,
      "metadata": {
        "id": "tZvrnvrHhyiY"
      },
      "outputs": [],
      "source": [
        "labels_true = np.array(train_data['label'])\n",
        "fs = FeatureSelector(data = train_no_liac, labels = labels_true)"
      ]
    },
    {
      "cell_type": "markdown",
      "source": [
        "To find features that are correlated more than correlation threshold: "
      ],
      "metadata": {
        "id": "1-4zo_zJyqIS"
      }
    },
    {
      "cell_type": "code",
      "execution_count": null,
      "metadata": {
        "id": "TnzEjRYbhyia",
        "outputId": "fd68d3a6-30ec-464f-d9f3-c206bb6840a8"
      },
      "outputs": [
        {
          "name": "stderr",
          "output_type": "stream",
          "text": [
            "/home/arta/anaconda3/envs/bdks/lib/python3.5/site-packages/pandas/core/frame.py:6211: FutureWarning: Sorting because non-concatenation axis is not aligned. A future version\n",
            "of pandas will change to not sort by default.\n",
            "\n",
            "To accept the future behavior, pass 'sort=False'.\n",
            "\n",
            "To retain the current behavior and silence the warning, pass 'sort=True'.\n",
            "\n",
            "  sort=sort)\n"
          ]
        },
        {
          "name": "stdout",
          "output_type": "stream",
          "text": [
            "5 features with a correlation magnitude greater than 0.97.\n",
            "\n"
          ]
        },
        {
          "data": {
            "image/png": "[encoded data removed]",
            "text/plain": [
              "<Figure size 720x576 with 2 Axes>"
            ]
          },
          "metadata": {},
          "output_type": "display_data"
        }
      ],
      "source": [
        "fs.identify_collinear(correlation_threshold = 0.97)\n",
        "fs.plot_collinear()"
      ]
    },
    {
      "cell_type": "markdown",
      "source": [
        "In next block I get the schema of these five features :</br>"
      ],
      "metadata": {
        "id": "ohb0uNYLOGRq"
      }
    },
    {
      "cell_type": "code",
      "execution_count": null,
      "metadata": {
        "id": "UBYxrgEthyid",
        "outputId": "922c2032-11f1-4b22-b7d3-40b4bc5c1f36"
      },
      "outputs": [
        {
          "data": {
            "text/html": [
              "<div>\n",
              "<style scoped>\n",
              "    .dataframe tbody tr th:only-of-type {\n",
              "        vertical-align: middle;\n",
              "    }\n",
              "\n",
              "    .dataframe tbody tr th {\n",
              "        vertical-align: top;\n",
              "    }\n",
              "\n",
              "    .dataframe thead th {\n",
              "        text-align: right;\n",
              "    }\n",
              "</style>\n",
              "<table border=\"1\" class=\"dataframe\">\n",
              "  <thead>\n",
              "    <tr style=\"text-align: right;\">\n",
              "      <th></th>\n",
              "      <th>corr_feature</th>\n",
              "      <th>corr_value</th>\n",
              "      <th>drop_feature</th>\n",
              "    </tr>\n",
              "  </thead>\n",
              "  <tbody>\n",
              "    <tr>\n",
              "      <th>0</th>\n",
              "      <td>dpkts</td>\n",
              "      <td>0.976419</td>\n",
              "      <td>dbytes</td>\n",
              "    </tr>\n",
              "    <tr>\n",
              "      <th>1</th>\n",
              "      <td>spkts</td>\n",
              "      <td>0.973644</td>\n",
              "      <td>sloss</td>\n",
              "    </tr>\n",
              "    <tr>\n",
              "      <th>2</th>\n",
              "      <td>sbytes</td>\n",
              "      <td>0.995027</td>\n",
              "      <td>sloss</td>\n",
              "    </tr>\n",
              "    <tr>\n",
              "      <th>3</th>\n",
              "      <td>dpkts</td>\n",
              "      <td>0.981506</td>\n",
              "      <td>dloss</td>\n",
              "    </tr>\n",
              "    <tr>\n",
              "      <th>4</th>\n",
              "      <td>dbytes</td>\n",
              "      <td>0.997109</td>\n",
              "      <td>dloss</td>\n",
              "    </tr>\n",
              "  </tbody>\n",
              "</table>\n",
              "</div>"
            ],
            "text/plain": [
              "  corr_feature  corr_value drop_feature\n",
              "0        dpkts    0.976419       dbytes\n",
              "1        spkts    0.973644        sloss\n",
              "2       sbytes    0.995027        sloss\n",
              "3        dpkts    0.981506        dloss\n",
              "4       dbytes    0.997109        dloss"
            ]
          },
          "execution_count": 6,
          "metadata": {},
          "output_type": "execute_result"
        }
      ],
      "source": [
        "collinear_features = fs.ops['collinear']\n",
        "fs.record_collinear.head()"
      ]
    },
    {
      "cell_type": "markdown",
      "source": [
        "Next block I show the correlation of all of the features in one heatmap:"
      ],
      "metadata": {
        "id": "zCVV2byMOZre"
      }
    },
    {
      "cell_type": "code",
      "execution_count": null,
      "metadata": {
        "id": "AzUqSN6xhyie",
        "outputId": "72245c6a-8d17-4267-fca5-dd53281c34e1"
      },
      "outputs": [
        {
          "data": {
            "image/png": "[encoded data removed]",
            "text/plain": [
              "<Figure size 720x576 with 2 Axes>"
            ]
          },
          "metadata": {},
          "output_type": "display_data"
        }
      ],
      "source": [
        "fs.plot_collinear(plot_all=True)"
      ]
    },
    {
      "cell_type": "markdown",
      "source": [
        "In next block I just check if there is a single_value feature in dataset."
      ],
      "metadata": {
        "id": "oReClIDNOsqK"
      }
    },
    {
      "cell_type": "code",
      "execution_count": null,
      "metadata": {
        "id": "vZYWMVTmhyif",
        "outputId": "6f1fc4ca-ad5f-4be2-ccbc-06d0f3936bc3"
      },
      "outputs": [
        {
          "name": "stdout",
          "output_type": "stream",
          "text": [
            "0 features with a single unique value.\n",
            "\n"
          ]
        },
        {
          "data": {
            "image/png": "[encoded data removed]",
            "text/plain": [
              "<Figure size 700x500 with 1 Axes>"
            ]
          },
          "metadata": {},
          "output_type": "display_data"
        }
      ],
      "source": [
        "fs.identify_single_unique()\n",
        "fs.plot_unique()"
      ]
    },
    {
      "cell_type": "markdown",
      "source": [
        "In block below, I find the lowest important features with a model based on tree or gradient-boosting method and I will remove these features."
      ],
      "metadata": {
        "id": "SR0jaDWgPPxS"
      }
    },
    {
      "cell_type": "code",
      "execution_count": null,
      "metadata": {
        "id": "5WgN8HJAhyih",
        "outputId": "4025d91c-bac6-4cf7-bf55-65a599f5b0f5"
      },
      "outputs": [
        {
          "name": "stdout",
          "output_type": "stream",
          "text": [
            "Training Gradient Boosting Model\n",
            "\n",
            "Training until validation scores don't improve for 100 rounds.\n",
            "Did not meet early stopping. Best iteration is:\n",
            "[991]\tvalid_0's auc: 0.998472\tvalid_0's binary_logloss: 0.0468188\n",
            "Training until validation scores don't improve for 100 rounds.\n",
            "Did not meet early stopping. Best iteration is:\n",
            "[991]\tvalid_0's auc: 0.998401\tvalid_0's binary_logloss: 0.0504066\n",
            "Training until validation scores don't improve for 100 rounds.\n",
            "Did not meet early stopping. Best iteration is:\n",
            "[990]\tvalid_0's auc: 0.998164\tvalid_0's binary_logloss: 0.0511267\n",
            "Training until validation scores don't improve for 100 rounds.\n",
            "Did not meet early stopping. Best iteration is:\n",
            "[985]\tvalid_0's auc: 0.998557\tvalid_0's binary_logloss: 0.0461468\n",
            "Training until validation scores don't improve for 100 rounds.\n",
            "Did not meet early stopping. Best iteration is:\n",
            "[955]\tvalid_0's auc: 0.998298\tvalid_0's binary_logloss: 0.0491685\n",
            "Training until validation scores don't improve for 100 rounds.\n",
            "Did not meet early stopping. Best iteration is:\n",
            "[993]\tvalid_0's auc: 0.998389\tvalid_0's binary_logloss: 0.0493394\n",
            "Training until validation scores don't improve for 100 rounds.\n",
            "Did not meet early stopping. Best iteration is:\n",
            "[989]\tvalid_0's auc: 0.998338\tvalid_0's binary_logloss: 0.0491049\n",
            "Training until validation scores don't improve for 100 rounds.\n",
            "Did not meet early stopping. Best iteration is:\n",
            "[1000]\tvalid_0's auc: 0.998426\tvalid_0's binary_logloss: 0.0485552\n",
            "Training until validation scores don't improve for 100 rounds.\n",
            "Did not meet early stopping. Best iteration is:\n",
            "[999]\tvalid_0's auc: 0.998168\tvalid_0's binary_logloss: 0.0520225\n",
            "Training until validation scores don't improve for 100 rounds.\n",
            "Did not meet early stopping. Best iteration is:\n",
            "[980]\tvalid_0's auc: 0.998408\tvalid_0's binary_logloss: 0.0480477\n",
            "\n",
            "2 features with zero importance after one-hot encoding.\n",
            "\n"
          ]
        },
        {
          "data": {
            "image/png": "[encoded data removed]",
            "text/plain": [
              "<Figure size 1000x600 with 1 Axes>"
            ]
          },
          "metadata": {},
          "output_type": "display_data"
        },
        {
          "data": {
            "image/png": "[encoded data removed]",
            "text/plain": [
              "<Figure size 600x400 with 1 Axes>"
            ]
          },
          "metadata": {},
          "output_type": "display_data"
        },
        {
          "name": "stdout",
          "output_type": "stream",
          "text": [
            "33 features required for 0.99 of cumulative importance\n"
          ]
        }
      ],
      "source": [
        "fs.identify_zero_importance(task = 'classification', eval_metric = 'auc', \n",
        "                            n_iterations = 10, early_stopping = True)\n",
        "fs.plot_feature_importances(threshold = 0.99, plot_n = 12)"
      ]
    },
    {
      "cell_type": "markdown",
      "source": [
        "Also cumulative mode is used to check how many features are required to have the importance of 0.99 (or any other values)."
      ],
      "metadata": {
        "id": "jD6rKLx5P3kS"
      }
    },
    {
      "cell_type": "code",
      "execution_count": null,
      "metadata": {
        "id": "0p8QGuFqhyij",
        "outputId": "3d14a2cc-2bbc-4278-f99e-56151b52312b"
      },
      "outputs": [
        {
          "name": "stdout",
          "output_type": "stream",
          "text": [
            "32 features required for cumulative importance of 0.99 after one hot encoding.\n",
            "10 features do not contribute to cumulative importance of 0.99.\n",
            "\n"
          ]
        }
      ],
      "source": [
        "fs.identify_low_importance(cumulative_importance = 0.99)"
      ]
    },
    {
      "cell_type": "markdown",
      "source": [
        "![image.png](data:image/png;base64,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)"
      ],
      "metadata": {
        "id": "_RZWEjkRQRlO"
      }
    },
    {
      "cell_type": "code",
      "execution_count": null,
      "metadata": {
        "id": "gOV2TN_Fhyik",
        "outputId": "fa5d79ee-b980-4c75-abd2-425f4347adbb"
      },
      "outputs": [
        {
          "name": "stdout",
          "output_type": "stream",
          "text": [
            "['low_importance', 'single_unique', 'zero_importance', 'collinear'] methods have been run\n",
            "\n",
            "Removed 14 features including one-hot features.\n"
          ]
        }
      ],
      "source": [
        "train_removed_all = fs.remove(methods = 'all', keep_one_hot=False)"
      ]
    },
    {
      "cell_type": "markdown",
      "source": [
        "In this project I used standard_scaler for clustering and minMaxScaler for classification."
      ],
      "metadata": {
        "id": "ZnH7WRTyQs9G"
      }
    },
    {
      "cell_type": "code",
      "execution_count": null,
      "metadata": {
        "id": "kNozH0wqhyim",
        "outputId": "99a6c4ef-fa0a-4a9f-b6b3-14d0aab0bd17"
      },
      "outputs": [
        {
          "data": {
            "text/plain": [
              "'scaled_train = std_scaler.fit_transform(train)'"
            ]
          },
          "execution_count": 18,
          "metadata": {},
          "output_type": "execute_result"
        }
      ],
      "source": [
        "#this block responsible for connecting previous feature selection task to algorithms\n",
        "#the below line put new data set to algorithms input\n",
        "scaled_train = std_scaler.fit_transform(train_removed_all)\n",
        "#if you dont want to use result of previous tasks just comment above line and uncomment\n",
        "#line below\n",
        "\"\"\"scaled_train = std_scaler.fit_transform(train)\"\"\""
      ]
    },
    {
      "cell_type": "markdown",
      "source": [
        "Here I used PCA for all of the clustering models. I consider 10 features as principal components! </br>\n",
        "then I extract some information about these clustering algorithms. For example I compute Connectivity which is very time consuming. </br>\n",
        "Line (26 to 41) : </br> \n",
        "I just define instances of different clustering algorithms. </br>\n",
        "Line (44 to 54) : </br>\n",
        "I just create a dictionary structure of algorithms and algorithm's names.</br>\n",
        "Line (56 to 88) : </br>\n",
        "in a ForLoop - for each algorithm I just run it and estimete labels and compute different metrics. "
      ],
      "metadata": {
        "id": "WxM6D_yaRFNM"
      }
    },
    {
      "cell_type": "code",
      "execution_count": null,
      "metadata": {
        "id": "EBDl2HeChyio",
        "outputId": "5e2f3a35-a20e-4034-a19a-33e0e95d6218"
      },
      "outputs": [
        {
          "name": "stdout",
          "output_type": "stream",
          "text": [
            "MiniBatchKMeans trained\n",
            "Homogeneity of MiniBatchKMeans: 0.15862507773644724\n",
            "Completeness of MiniBatchKMeans: 0.08383833586282664\n",
            "V_measure of MiniBatchKMeans: 0.10969789087861855\n",
            "MeanShift trained\n",
            "Homogeneity of MeanShift: 0.01890226815735295\n",
            "Completeness of MeanShift: 0.053236800892340445\n",
            "V_measure of MeanShift: 0.027898787704438856\n",
            "SpectralClustering trained\n",
            "Homogeneity of SpectralClustering: 0.05506862070032503\n",
            "Completeness of SpectralClustering: 0.11785593211278433\n",
            "V_measure of SpectralClustering: 0.07506352935105187\n"
          ]
        },
        {
          "name": "stderr",
          "output_type": "stream",
          "text": [
            "/home/arta/anaconda3/envs/bdks/lib/python3.5/site-packages/sklearn/cluster/hierarchical.py:193: UserWarning: the number of connected components of the connectivity matrix is 930 > 1. Completing it to avoid stopping the tree early.\n",
            "  affinity='euclidean')\n"
          ]
        },
        {
          "name": "stdout",
          "output_type": "stream",
          "text": [
            "Ward trained\n",
            "Homogeneity of Ward: 0.1684498624231471\n",
            "Completeness of Ward: 0.11666794914481128\n",
            "V_measure of Ward: 0.13785669772475737\n"
          ]
        },
        {
          "name": "stderr",
          "output_type": "stream",
          "text": [
            "/home/arta/anaconda3/envs/bdks/lib/python3.5/site-packages/sklearn/cluster/hierarchical.py:426: UserWarning: the number of connected components of the connectivity matrix is 930 > 1. Completing it to avoid stopping the tree early.\n",
            "  affinity=affinity)\n"
          ]
        },
        {
          "name": "stdout",
          "output_type": "stream",
          "text": [
            "AgglomerativeClustering trained\n",
            "Homogeneity of AgglomerativeClustering: 0.00010198471645581947\n",
            "Completeness of AgglomerativeClustering: 0.05695417189975827\n",
            "V_measure of AgglomerativeClustering: 0.00020360484885945557\n",
            "DBSCAN trained\n",
            "Homogeneity of DBSCAN: 0.5296601894256845\n",
            "Completeness of DBSCAN: 0.13327265725916135\n",
            "V_measure of DBSCAN: 0.21296039634225394\n",
            "Birch trained\n",
            "Homogeneity of Birch: 0.008506314003198023\n",
            "Completeness of Birch: 0.06826713704064998\n",
            "V_measure of Birch: 0.015127669679339028\n",
            "GaussianMixture trained\n",
            "Homogeneity of GaussianMixture: 0.25303734529593547\n",
            "Completeness of GaussianMixture: 0.11943433496483546\n",
            "V_measure of GaussianMixture: 0.16227460318878065\n"
          ]
        }
      ],
      "source": [
        "#----------------------------------\n",
        "# Here we use PCA for dimention reduction you can change number of components\n",
        "# or simply delete this section to use main data\n",
        "pca = PCA(n_components=10)\n",
        "scaled_train = pca.fit_transform(scaled_train)\n",
        "\n",
        "labels_true = np.array(train_data['label'])\n",
        "bandwidth = 1\n",
        "n_clusters = 2\n",
        "eps = 0.3\n",
        "damping = 0.9\n",
        "preference = -200\n",
        "quantile = 0.3\n",
        "n_neighbors = 10\n",
        "# estimate bandwidth for mean shift\n",
        "bandwidth = cluster.estimate_bandwidth(scaled_train, quantile=quantile)\n",
        "\n",
        "# connectivity matrix for structured Ward\n",
        "connectivity = kneighbors_graph(\n",
        "   scaled_train, n_neighbors=n_neighbors, include_self=False)\n",
        "# make connectivity symmetric\n",
        "connectivity = 0.5 * (connectivity + connectivity.T)\n",
        "\n",
        "\n",
        "ms = cluster.MeanShift(bandwidth=bandwidth, bin_seeding=True)\n",
        "k_means = cluster.MiniBatchKMeans(n_clusters=n_clusters)\n",
        "ward = cluster.AgglomerativeClustering(\n",
        "        n_clusters=n_clusters, linkage='ward',\n",
        "        connectivity=connectivity)\n",
        "spectral = cluster.SpectralClustering(\n",
        "        n_clusters=n_clusters, eigen_solver='arpack',\n",
        "        affinity=\"nearest_neighbors\")\n",
        "dbscan = cluster.DBSCAN(eps=eps)\n",
        "affinity_propagation = cluster.AffinityPropagation(\n",
        "        damping=damping, preference=preference)\n",
        "average_linkage = cluster.AgglomerativeClustering(\n",
        "        linkage=\"average\", affinity=\"cityblock\",\n",
        "        n_clusters=n_clusters, connectivity=connectivity)\n",
        "birch = cluster.Birch(n_clusters=n_clusters)\n",
        "gmm = mixture.GaussianMixture(\n",
        "        n_components=n_clusters, covariance_type='full')\n",
        "\n",
        "\n",
        "clustering_algorithms = (\n",
        "        ('MiniBatchKMeans', k_means),\n",
        "        \n",
        "        ('MeanShift', ms),\n",
        "        ('SpectralClustering', spectral),\n",
        "        ('Ward', ward),\n",
        "        ('AgglomerativeClustering', average_linkage),\n",
        "        ('DBSCAN', dbscan),\n",
        "        ('Birch', birch),\n",
        "        ('GaussianMixture', gmm)\n",
        "    )\n",
        "\n",
        "labels_true = labels_true.astype(str)\n",
        "for name, algorithm in clustering_algorithms:\n",
        "    t0 = time.time()\n",
        "\n",
        "# catch warnings related to kneighbors_graph\n",
        "    with warnings.catch_warnings():\n",
        "        warnings.filterwarnings(\n",
        "            \"ignore\",\n",
        "            message=\"the number of connected components of the \" +\n",
        "            \"connectivity matrix is [0-9]{1,2}\" +\n",
        "            \" > 1. Completing it to avoid stopping the tree early.\",\n",
        "            category=UserWarning)\n",
        "        warnings.filterwarnings(\n",
        "            \"ignore\",\n",
        "            message=\"Graph is not fully connected, spectral embedding\" +\n",
        "            \" may not work as expected.\",\n",
        "            category=UserWarning)\n",
        "        algorithm.fit(scaled_train)\n",
        "        print(name + \" trained\")\n",
        "        \n",
        "    t1 = time.time()\n",
        "    if hasattr(algorithm, 'labels_'):\n",
        "        labels = algorithm.labels_.astype(np.int)\n",
        "    else:\n",
        "        labels = algorithm.predict(scaled_train)\n",
        "    \n",
        "    labels = np.array(labels)\n",
        "    print(\"Homogeneity of \" + name + \": \" +\n",
        "          str(metrics.homogeneity_score(labels_true, labels)))\n",
        "    print(\"Completeness of \" + name + \": \" +\n",
        "          str(metrics.completeness_score(labels_true, labels)))\n",
        "    print(\"V_measure of \" + name + \": \" +\n",
        "          str(metrics.v_measure_score(labels_true, labels)))"
      ]
    },
    {
      "cell_type": "markdown",
      "source": [
        "the block below is exactly the previous block just I used LDA dimenstion reduction method instead PCA method."
      ],
      "metadata": {
        "id": "uYNFgZ5Ev2Iu"
      }
    },
    {
      "cell_type": "code",
      "execution_count": null,
      "metadata": {
        "id": "2S3kCAo1hyiq",
        "outputId": "c07cbb63-53b2-4d0f-fd0d-942d53c82667"
      },
      "outputs": [
        {
          "name": "stdout",
          "output_type": "stream",
          "text": [
            "MiniBatchKMeans trained\n",
            "Homogeneity of MiniBatchKMeans: 0.2970324865187728\n",
            "Completeness of MiniBatchKMeans: 0.13598266519705704\n",
            "V_measure of MiniBatchKMeans: 0.18655822553497517\n",
            "SpectralClustering trained\n",
            "Homogeneity of SpectralClustering: 0.0007800465989703202\n",
            "Completeness of SpectralClustering: 0.06536888167559443\n",
            "V_measure of SpectralClustering: 0.0015416961441277782\n"
          ]
        },
        {
          "name": "stderr",
          "output_type": "stream",
          "text": [
            "/home/arta/anaconda3/envs/bdks/lib/python3.5/site-packages/sklearn/cluster/hierarchical.py:193: UserWarning: the number of connected components of the connectivity matrix is 930 > 1. Completing it to avoid stopping the tree early.\n",
            "  affinity='euclidean')\n"
          ]
        },
        {
          "name": "stdout",
          "output_type": "stream",
          "text": [
            "Ward trained\n",
            "Homogeneity of Ward: 0.29735273841236315\n",
            "Completeness of Ward: 0.13906886645485644\n",
            "V_measure of Ward: 0.1895071545820295\n"
          ]
        }
      ],
      "source": [
        "labels_true = np.array(train_data['label'])\n",
        "#----------------------------------\n",
        "# Here we use LDA for dimention reduction you can change number of components\n",
        "# or simply delete this section to use main data\n",
        "lda = LinearDiscriminantAnalysis()\n",
        "scaled_train2 = lda.fit_transform(scaled_train, labels_true)\n",
        "\n",
        "\n",
        "bandwidth = 1\n",
        "n_clusters = 2\n",
        "eps = 0.3\n",
        "damping = 0.9\n",
        "preference = -200\n",
        "quantile = 0.3\n",
        "n_neighbors = 10\n",
        "# estimate bandwidth for mean shift\n",
        "bandwidth = cluster.estimate_bandwidth(scaled_train2, quantile=quantile)\n",
        "\n",
        "# connectivity matrix for structured Ward\n",
        "connectivity = kneighbors_graph(\n",
        "   scaled_train, n_neighbors=n_neighbors, include_self=False)\n",
        "# make connectivity symmetric\n",
        "connectivity = 0.5 * (connectivity + connectivity.T)\n",
        "\n",
        "\n",
        "ms = cluster.MeanShift(bandwidth=bandwidth, bin_seeding=True)\n",
        "k_means = cluster.MiniBatchKMeans(n_clusters=n_clusters)\n",
        "ward = cluster.AgglomerativeClustering(\n",
        "        n_clusters=n_clusters, linkage='ward',\n",
        "        connectivity=connectivity)\n",
        "spectral = cluster.SpectralClustering(\n",
        "        n_clusters=n_clusters, eigen_solver='arpack',\n",
        "        affinity=\"nearest_neighbors\")\n",
        "dbscan = cluster.DBSCAN(eps=eps)\n",
        "affinity_propagation = cluster.AffinityPropagation(\n",
        "        damping=damping, preference=preference)\n",
        "average_linkage = cluster.AgglomerativeClustering(\n",
        "        linkage=\"average\", affinity=\"cityblock\",\n",
        "        n_clusters=n_clusters, connectivity=connectivity)\n",
        "birch = cluster.Birch(n_clusters=n_clusters)\n",
        "gmm = mixture.GaussianMixture(\n",
        "        n_components=n_clusters, covariance_type='full')\n",
        "\n",
        "\n",
        "clustering_algorithms = (\n",
        "        ('MiniBatchKMeans', k_means),\n",
        "        \n",
        "        \n",
        "        ('SpectralClustering', spectral),\n",
        "        ('Ward', ward),\n",
        "        \n",
        "        ('DBSCAN', dbscan),\n",
        "        ('Birch', birch),\n",
        "        ('GaussianMixture', gmm)\n",
        "    )\n",
        "\n",
        "labels_true = labels_true.astype(str)\n",
        "for name, algorithm in clustering_algorithms:\n",
        "    t0 = time.time()\n",
        "\n",
        "# catch warnings related to kneighbors_graph\n",
        "    with warnings.catch_warnings():\n",
        "        warnings.filterwarnings(\n",
        "            \"ignore\",\n",
        "            message=\"the number of connected components of the \" +\n",
        "            \"connectivity matrix is [0-9]{1,2}\" +\n",
        "            \" > 1. Completing it to avoid stopping the tree early.\",\n",
        "            category=UserWarning)\n",
        "        warnings.filterwarnings(\n",
        "            \"ignore\",\n",
        "            message=\"Graph is not fully connected, spectral embedding\" +\n",
        "            \" may not work as expected.\",\n",
        "            category=UserWarning)\n",
        "        algorithm.fit(scaled_train2)\n",
        "        print(name + \" trained\")\n",
        "        \n",
        "    t1 = time.time()\n",
        "    if hasattr(algorithm, 'labels_'):\n",
        "        labels = algorithm.labels_.astype(np.int)\n",
        "    else:\n",
        "        labels = algorithm.predict(scaled_train2)\n",
        "    \n",
        "    labels = np.array(labels)\n",
        "    print(\"Homogeneity of \" + name + \": \" +\n",
        "          str(metrics.homogeneity_score(labels_true, labels)))\n",
        "    print(\"Completeness of \" + name + \": \" +\n",
        "          str(metrics.completeness_score(labels_true, labels)))\n",
        "    print(\"V_measure of \" + name + \": \" +\n",
        "          str(metrics.v_measure_score(labels_true, labels)))"
      ]
    },
    {
      "cell_type": "code",
      "execution_count": null,
      "metadata": {
        "id": "2pKEX5Kuhyis",
        "outputId": "1980ccae-2211-46d8-fa35-cd77dec27bb6"
      },
      "outputs": [
        {
          "data": {
            "text/html": [
              "<div>\n",
              "<style scoped>\n",
              "    .dataframe tbody tr th:only-of-type {\n",
              "        vertical-align: middle;\n",
              "    }\n",
              "\n",
              "    .dataframe tbody tr th {\n",
              "        vertical-align: top;\n",
              "    }\n",
              "\n",
              "    .dataframe thead th {\n",
              "        text-align: right;\n",
              "    }\n",
              "</style>\n",
              "<table border=\"1\" class=\"dataframe\">\n",
              "  <thead>\n",
              "    <tr style=\"text-align: right;\">\n",
              "      <th></th>\n",
              "      <th>dur</th>\n",
              "      <th>proto</th>\n",
              "      <th>service</th>\n",
              "      <th>spkts</th>\n",
              "      <th>dpkts</th>\n",
              "      <th>sbytes</th>\n",
              "      <th>rate</th>\n",
              "      <th>sttl</th>\n",
              "      <th>sload</th>\n",
              "      <th>dload</th>\n",
              "      <th>...</th>\n",
              "      <th>ackdat</th>\n",
              "      <th>smean</th>\n",
              "      <th>dmean</th>\n",
              "      <th>response_body_len</th>\n",
              "      <th>ct_srv_src</th>\n",
              "      <th>ct_dst_ltm</th>\n",
              "      <th>ct_src_dport_ltm</th>\n",
              "      <th>ct_dst_sport_ltm</th>\n",
              "      <th>ct_dst_src_ltm</th>\n",
              "      <th>ct_src_ltm</th>\n",
              "    </tr>\n",
              "  </thead>\n",
              "  <tbody>\n",
              "    <tr>\n",
              "      <th>0</th>\n",
              "      <td>0.000011</td>\n",
              "      <td>0</td>\n",
              "      <td>0</td>\n",
              "      <td>2</td>\n",
              "      <td>0</td>\n",
              "      <td>496</td>\n",
              "      <td>90909.0902</td>\n",
              "      <td>254</td>\n",
              "      <td>180363632.0</td>\n",
              "      <td>0.0</td>\n",
              "      <td>...</td>\n",
              "      <td>0.0</td>\n",
              "      <td>248</td>\n",
              "      <td>0</td>\n",
              "      <td>0</td>\n",
              "      <td>2</td>\n",
              "      <td>1</td>\n",
              "      <td>1</td>\n",
              "      <td>1</td>\n",
              "      <td>2</td>\n",
              "      <td>1</td>\n",
              "    </tr>\n",
              "    <tr>\n",
              "      <th>1</th>\n",
              "      <td>0.000008</td>\n",
              "      <td>0</td>\n",
              "      <td>0</td>\n",
              "      <td>2</td>\n",
              "      <td>0</td>\n",
              "      <td>1762</td>\n",
              "      <td>125000.0003</td>\n",
              "      <td>254</td>\n",
              "      <td>881000000.0</td>\n",
              "      <td>0.0</td>\n",
              "      <td>...</td>\n",
              "      <td>0.0</td>\n",
              "      <td>881</td>\n",
              "      <td>0</td>\n",
              "      <td>0</td>\n",
              "      <td>2</td>\n",
              "      <td>1</td>\n",
              "      <td>1</td>\n",
              "      <td>1</td>\n",
              "      <td>2</td>\n",
              "      <td>1</td>\n",
              "    </tr>\n",
              "    <tr>\n",
              "      <th>2</th>\n",
              "      <td>0.000005</td>\n",
              "      <td>0</td>\n",
              "      <td>0</td>\n",
              "      <td>2</td>\n",
              "      <td>0</td>\n",
              "      <td>1068</td>\n",
              "      <td>200000.0051</td>\n",
              "      <td>254</td>\n",
              "      <td>854400000.0</td>\n",
              "      <td>0.0</td>\n",
              "      <td>...</td>\n",
              "      <td>0.0</td>\n",
              "      <td>534</td>\n",
              "      <td>0</td>\n",
              "      <td>0</td>\n",
              "      <td>3</td>\n",
              "      <td>1</td>\n",
              "      <td>1</td>\n",
              "      <td>1</td>\n",
              "      <td>3</td>\n",
              "      <td>1</td>\n",
              "    </tr>\n",
              "    <tr>\n",
              "      <th>3</th>\n",
              "      <td>0.000006</td>\n",
              "      <td>0</td>\n",
              "      <td>0</td>\n",
              "      <td>2</td>\n",
              "      <td>0</td>\n",
              "      <td>900</td>\n",
              "      <td>166666.6608</td>\n",
              "      <td>254</td>\n",
              "      <td>600000000.0</td>\n",
              "      <td>0.0</td>\n",
              "      <td>...</td>\n",
              "      <td>0.0</td>\n",
              "      <td>450</td>\n",
              "      <td>0</td>\n",
              "      <td>0</td>\n",
              "      <td>3</td>\n",
              "      <td>2</td>\n",
              "      <td>2</td>\n",
              "      <td>1</td>\n",
              "      <td>3</td>\n",
              "      <td>2</td>\n",
              "    </tr>\n",
              "    <tr>\n",
              "      <th>4</th>\n",
              "      <td>0.000010</td>\n",
              "      <td>0</td>\n",
              "      <td>0</td>\n",
              "      <td>2</td>\n",
              "      <td>0</td>\n",
              "      <td>2126</td>\n",
              "      <td>100000.0025</td>\n",
              "      <td>254</td>\n",
              "      <td>850400000.0</td>\n",
              "      <td>0.0</td>\n",
              "      <td>...</td>\n",
              "      <td>0.0</td>\n",
              "      <td>1063</td>\n",
              "      <td>0</td>\n",
              "      <td>0</td>\n",
              "      <td>3</td>\n",
              "      <td>2</td>\n",
              "      <td>2</td>\n",
              "      <td>1</td>\n",
              "      <td>3</td>\n",
              "      <td>2</td>\n",
              "    </tr>\n",
              "  </tbody>\n",
              "</table>\n",
              "<p>5 rows × 28 columns</p>\n",
              "</div>"
            ],
            "text/plain": [
              "        dur  proto  service  spkts  dpkts  sbytes         rate  sttl  \\\n",
              "0  0.000011      0        0      2      0     496   90909.0902   254   \n",
              "1  0.000008      0        0      2      0    1762  125000.0003   254   \n",
              "2  0.000005      0        0      2      0    1068  200000.0051   254   \n",
              "3  0.000006      0        0      2      0     900  166666.6608   254   \n",
              "4  0.000010      0        0      2      0    2126  100000.0025   254   \n",
              "\n",
              "         sload  dload     ...      ackdat  smean  dmean  response_body_len  \\\n",
              "0  180363632.0    0.0     ...         0.0    248      0                  0   \n",
              "1  881000000.0    0.0     ...         0.0    881      0                  0   \n",
              "2  854400000.0    0.0     ...         0.0    534      0                  0   \n",
              "3  600000000.0    0.0     ...         0.0    450      0                  0   \n",
              "4  850400000.0    0.0     ...         0.0   1063      0                  0   \n",
              "\n",
              "   ct_srv_src  ct_dst_ltm  ct_src_dport_ltm  ct_dst_sport_ltm  ct_dst_src_ltm  \\\n",
              "0           2           1                 1                 1               2   \n",
              "1           2           1                 1                 1               2   \n",
              "2           3           1                 1                 1               3   \n",
              "3           3           2                 2                 1               3   \n",
              "4           3           2                 2                 1               3   \n",
              "\n",
              "   ct_src_ltm  \n",
              "0           1  \n",
              "1           1  \n",
              "2           1  \n",
              "3           2  \n",
              "4           2  \n",
              "\n",
              "[5 rows x 28 columns]"
            ]
          },
          "execution_count": 14,
          "metadata": {},
          "output_type": "execute_result"
        }
      ],
      "source": [
        "#Now we start classification task here from the data after feature selection\n",
        "#take a look at data\n",
        "train_removed_all.head()"
      ]
    },
    {
      "cell_type": "code",
      "execution_count": null,
      "metadata": {
        "id": "61aiagcZhyiu",
        "outputId": "ed90e2c7-6339-43ce-c8fc-dcadcc12abba"
      },
      "outputs": [
        {
          "data": {
            "text/html": [
              "<div>\n",
              "<style scoped>\n",
              "    .dataframe tbody tr th:only-of-type {\n",
              "        vertical-align: middle;\n",
              "    }\n",
              "\n",
              "    .dataframe tbody tr th {\n",
              "        vertical-align: top;\n",
              "    }\n",
              "\n",
              "    .dataframe thead th {\n",
              "        text-align: right;\n",
              "    }\n",
              "</style>\n",
              "<table border=\"1\" class=\"dataframe\">\n",
              "  <thead>\n",
              "    <tr style=\"text-align: right;\">\n",
              "      <th></th>\n",
              "      <th>dur</th>\n",
              "      <th>proto</th>\n",
              "      <th>service</th>\n",
              "      <th>spkts</th>\n",
              "      <th>dpkts</th>\n",
              "      <th>sbytes</th>\n",
              "      <th>rate</th>\n",
              "      <th>sttl</th>\n",
              "      <th>sload</th>\n",
              "      <th>dload</th>\n",
              "      <th>...</th>\n",
              "      <th>ackdat</th>\n",
              "      <th>smean</th>\n",
              "      <th>dmean</th>\n",
              "      <th>response_body_len</th>\n",
              "      <th>ct_srv_src</th>\n",
              "      <th>ct_dst_ltm</th>\n",
              "      <th>ct_src_dport_ltm</th>\n",
              "      <th>ct_dst_sport_ltm</th>\n",
              "      <th>ct_dst_src_ltm</th>\n",
              "      <th>ct_src_ltm</th>\n",
              "    </tr>\n",
              "  </thead>\n",
              "  <tbody>\n",
              "    <tr>\n",
              "      <th>count</th>\n",
              "      <td>82332.000000</td>\n",
              "      <td>82332.000000</td>\n",
              "      <td>82332.000000</td>\n",
              "      <td>82332.000000</td>\n",
              "      <td>82332.000000</td>\n",
              "      <td>8.233200e+04</td>\n",
              "      <td>8.233200e+04</td>\n",
              "      <td>82332.000000</td>\n",
              "      <td>8.233200e+04</td>\n",
              "      <td>8.233200e+04</td>\n",
              "      <td>...</td>\n",
              "      <td>82332.000000</td>\n",
              "      <td>82332.000000</td>\n",
              "      <td>82332.000000</td>\n",
              "      <td>8.233200e+04</td>\n",
              "      <td>82332.000000</td>\n",
              "      <td>82332.000000</td>\n",
              "      <td>82332.000000</td>\n",
              "      <td>82332.000000</td>\n",
              "      <td>82332.000000</td>\n",
              "      <td>82332.000000</td>\n",
              "    </tr>\n",
              "    <tr>\n",
              "      <th>mean</th>\n",
              "      <td>1.006756</td>\n",
              "      <td>8.811216</td>\n",
              "      <td>1.901739</td>\n",
              "      <td>18.666472</td>\n",
              "      <td>17.545936</td>\n",
              "      <td>7.993908e+03</td>\n",
              "      <td>8.241089e+04</td>\n",
              "      <td>180.967667</td>\n",
              "      <td>6.454902e+07</td>\n",
              "      <td>6.305470e+05</td>\n",
              "      <td>...</td>\n",
              "      <td>0.026669</td>\n",
              "      <td>139.528604</td>\n",
              "      <td>116.275069</td>\n",
              "      <td>1.595372e+03</td>\n",
              "      <td>9.546604</td>\n",
              "      <td>5.744923</td>\n",
              "      <td>4.928898</td>\n",
              "      <td>3.663011</td>\n",
              "      <td>7.456360</td>\n",
              "      <td>6.468360</td>\n",
              "    </tr>\n",
              "    <tr>\n",
              "      <th>std</th>\n",
              "      <td>4.710444</td>\n",
              "      <td>25.348181</td>\n",
              "      <td>2.642982</td>\n",
              "      <td>133.916353</td>\n",
              "      <td>115.574086</td>\n",
              "      <td>1.716423e+05</td>\n",
              "      <td>1.486204e+05</td>\n",
              "      <td>101.513358</td>\n",
              "      <td>1.798618e+08</td>\n",
              "      <td>2.393001e+06</td>\n",
              "      <td>...</td>\n",
              "      <td>0.055094</td>\n",
              "      <td>208.472063</td>\n",
              "      <td>244.600271</td>\n",
              "      <td>3.806697e+04</td>\n",
              "      <td>11.090289</td>\n",
              "      <td>8.418112</td>\n",
              "      <td>8.389545</td>\n",
              "      <td>5.915386</td>\n",
              "      <td>11.415191</td>\n",
              "      <td>8.543927</td>\n",
              "    </tr>\n",
              "    <tr>\n",
              "      <th>min</th>\n",
              "      <td>0.000000</td>\n",
              "      <td>0.000000</td>\n",
              "      <td>0.000000</td>\n",
              "      <td>1.000000</td>\n",
              "      <td>0.000000</td>\n",
              "      <td>2.400000e+01</td>\n",
              "      <td>0.000000e+00</td>\n",
              "      <td>0.000000</td>\n",
              "      <td>0.000000e+00</td>\n",
              "      <td>0.000000e+00</td>\n",
              "      <td>...</td>\n",
              "      <td>0.000000</td>\n",
              "      <td>24.000000</td>\n",
              "      <td>0.000000</td>\n",
              "      <td>0.000000e+00</td>\n",
              "      <td>1.000000</td>\n",
              "      <td>1.000000</td>\n",
              "      <td>1.000000</td>\n",
              "      <td>1.000000</td>\n",
              "      <td>1.000000</td>\n",
              "      <td>1.000000</td>\n",
              "    </tr>\n",
              "    <tr>\n",
              "      <th>25%</th>\n",
              "      <td>0.000008</td>\n",
              "      <td>0.000000</td>\n",
              "      <td>0.000000</td>\n",
              "      <td>2.000000</td>\n",
              "      <td>0.000000</td>\n",
              "      <td>1.140000e+02</td>\n",
              "      <td>2.860611e+01</td>\n",
              "      <td>62.000000</td>\n",
              "      <td>1.120247e+04</td>\n",
              "      <td>0.000000e+00</td>\n",
              "      <td>...</td>\n",
              "      <td>0.000000</td>\n",
              "      <td>57.000000</td>\n",
              "      <td>0.000000</td>\n",
              "      <td>0.000000e+00</td>\n",
              "      <td>2.000000</td>\n",
              "      <td>1.000000</td>\n",
              "      <td>1.000000</td>\n",
              "      <td>1.000000</td>\n",
              "      <td>1.000000</td>\n",
              "      <td>1.000000</td>\n",
              "    </tr>\n",
              "    <tr>\n",
              "      <th>50%</th>\n",
              "      <td>0.014138</td>\n",
              "      <td>2.000000</td>\n",
              "      <td>0.000000</td>\n",
              "      <td>6.000000</td>\n",
              "      <td>2.000000</td>\n",
              "      <td>5.340000e+02</td>\n",
              "      <td>2.650177e+03</td>\n",
              "      <td>254.000000</td>\n",
              "      <td>5.770032e+05</td>\n",
              "      <td>2.112951e+03</td>\n",
              "      <td>...</td>\n",
              "      <td>0.000080</td>\n",
              "      <td>65.000000</td>\n",
              "      <td>44.000000</td>\n",
              "      <td>0.000000e+00</td>\n",
              "      <td>5.000000</td>\n",
              "      <td>2.000000</td>\n",
              "      <td>1.000000</td>\n",
              "      <td>1.000000</td>\n",
              "      <td>3.000000</td>\n",
              "      <td>3.000000</td>\n",
              "    </tr>\n",
              "    <tr>\n",
              "      <th>75%</th>\n",
              "      <td>0.719360</td>\n",
              "      <td>2.000000</td>\n",
              "      <td>6.000000</td>\n",
              "      <td>12.000000</td>\n",
              "      <td>10.000000</td>\n",
              "      <td>1.280000e+03</td>\n",
              "      <td>1.111111e+05</td>\n",
              "      <td>254.000000</td>\n",
              "      <td>6.514286e+07</td>\n",
              "      <td>1.585808e+04</td>\n",
              "      <td>...</td>\n",
              "      <td>0.048816</td>\n",
              "      <td>100.000000</td>\n",
              "      <td>87.000000</td>\n",
              "      <td>0.000000e+00</td>\n",
              "      <td>11.000000</td>\n",
              "      <td>6.000000</td>\n",
              "      <td>4.000000</td>\n",
              "      <td>3.000000</td>\n",
              "      <td>6.000000</td>\n",
              "      <td>7.000000</td>\n",
              "    </tr>\n",
              "    <tr>\n",
              "      <th>max</th>\n",
              "      <td>59.999989</td>\n",
              "      <td>130.000000</td>\n",
              "      <td>12.000000</td>\n",
              "      <td>10646.000000</td>\n",
              "      <td>11018.000000</td>\n",
              "      <td>1.435577e+07</td>\n",
              "      <td>1.000000e+06</td>\n",
              "      <td>255.000000</td>\n",
              "      <td>5.268000e+09</td>\n",
              "      <td>2.082111e+07</td>\n",
              "      <td>...</td>\n",
              "      <td>2.928778</td>\n",
              "      <td>1504.000000</td>\n",
              "      <td>1500.000000</td>\n",
              "      <td>5.242880e+06</td>\n",
              "      <td>63.000000</td>\n",
              "      <td>59.000000</td>\n",
              "      <td>59.000000</td>\n",
              "      <td>38.000000</td>\n",
              "      <td>63.000000</td>\n",
              "      <td>60.000000</td>\n",
              "    </tr>\n",
              "  </tbody>\n",
              "</table>\n",
              "<p>8 rows × 28 columns</p>\n",
              "</div>"
            ],
            "text/plain": [
              "                dur         proto       service         spkts         dpkts  \\\n",
              "count  82332.000000  82332.000000  82332.000000  82332.000000  82332.000000   \n",
              "mean       1.006756      8.811216      1.901739     18.666472     17.545936   \n",
              "std        4.710444     25.348181      2.642982    133.916353    115.574086   \n",
              "min        0.000000      0.000000      0.000000      1.000000      0.000000   \n",
              "25%        0.000008      0.000000      0.000000      2.000000      0.000000   \n",
              "50%        0.014138      2.000000      0.000000      6.000000      2.000000   \n",
              "75%        0.719360      2.000000      6.000000     12.000000     10.000000   \n",
              "max       59.999989    130.000000     12.000000  10646.000000  11018.000000   \n",
              "\n",
              "             sbytes          rate          sttl         sload         dload  \\\n",
              "count  8.233200e+04  8.233200e+04  82332.000000  8.233200e+04  8.233200e+04   \n",
              "mean   7.993908e+03  8.241089e+04    180.967667  6.454902e+07  6.305470e+05   \n",
              "std    1.716423e+05  1.486204e+05    101.513358  1.798618e+08  2.393001e+06   \n",
              "min    2.400000e+01  0.000000e+00      0.000000  0.000000e+00  0.000000e+00   \n",
              "25%    1.140000e+02  2.860611e+01     62.000000  1.120247e+04  0.000000e+00   \n",
              "50%    5.340000e+02  2.650177e+03    254.000000  5.770032e+05  2.112951e+03   \n",
              "75%    1.280000e+03  1.111111e+05    254.000000  6.514286e+07  1.585808e+04   \n",
              "max    1.435577e+07  1.000000e+06    255.000000  5.268000e+09  2.082111e+07   \n",
              "\n",
              "           ...             ackdat         smean         dmean  \\\n",
              "count      ...       82332.000000  82332.000000  82332.000000   \n",
              "mean       ...           0.026669    139.528604    116.275069   \n",
              "std        ...           0.055094    208.472063    244.600271   \n",
              "min        ...           0.000000     24.000000      0.000000   \n",
              "25%        ...           0.000000     57.000000      0.000000   \n",
              "50%        ...           0.000080     65.000000     44.000000   \n",
              "75%        ...           0.048816    100.000000     87.000000   \n",
              "max        ...           2.928778   1504.000000   1500.000000   \n",
              "\n",
              "       response_body_len    ct_srv_src    ct_dst_ltm  ct_src_dport_ltm  \\\n",
              "count       8.233200e+04  82332.000000  82332.000000      82332.000000   \n",
              "mean        1.595372e+03      9.546604      5.744923          4.928898   \n",
              "std         3.806697e+04     11.090289      8.418112          8.389545   \n",
              "min         0.000000e+00      1.000000      1.000000          1.000000   \n",
              "25%         0.000000e+00      2.000000      1.000000          1.000000   \n",
              "50%         0.000000e+00      5.000000      2.000000          1.000000   \n",
              "75%         0.000000e+00     11.000000      6.000000          4.000000   \n",
              "max         5.242880e+06     63.000000     59.000000         59.000000   \n",
              "\n",
              "       ct_dst_sport_ltm  ct_dst_src_ltm    ct_src_ltm  \n",
              "count      82332.000000    82332.000000  82332.000000  \n",
              "mean           3.663011        7.456360      6.468360  \n",
              "std            5.915386       11.415191      8.543927  \n",
              "min            1.000000        1.000000      1.000000  \n",
              "25%            1.000000        1.000000      1.000000  \n",
              "50%            1.000000        3.000000      3.000000  \n",
              "75%            3.000000        6.000000      7.000000  \n",
              "max           38.000000       63.000000     60.000000  \n",
              "\n",
              "[8 rows x 28 columns]"
            ]
          },
          "execution_count": 15,
          "metadata": {},
          "output_type": "execute_result"
        }
      ],
      "source": [
        "train_removed_all.describe()"
      ]
    },
    {
      "cell_type": "markdown",
      "source": [
        "In this block I just create a minmaxscaler to do classification and you can select PCA or LDA method arbitrary! (one of LDA or PCA is commented)"
      ],
      "metadata": {
        "id": "xm_J3di-w7u3"
      }
    },
    {
      "cell_type": "code",
      "execution_count": null,
      "metadata": {
        "id": "c6O0TYoNhyiv",
        "outputId": "ae8effcf-2ff8-4b96-8bce-8383952f6dad"
      },
      "outputs": [
        {
          "data": {
            "text/plain": [
              "'lda = LinearDiscriminantAnalysis()\\nnew_data = lda.fit_transform(new_data, labels_true)'"
            ]
          },
          "execution_count": 33,
          "metadata": {},
          "output_type": "execute_result"
        }
      ],
      "source": [
        "#we scale the data\n",
        "mscl = MinMaxScaler()\n",
        "new_data = mscl.fit_transform(train_removed_all)\n",
        "#due to high dimentionality of the data we use pca or lda for dimentional reduction \n",
        "#we prefer to use pca but changing to lda and opposite can be done\n",
        "#number of components of pca can simply change and for lda components can be set like pca\n",
        "pca = PCA(n_components=10)\n",
        "new_data = pca.fit_transform(new_data)\n",
        "\n",
        "\"\"\"lda = LinearDiscriminantAnalysis()\n",
        "new_data = lda.fit_transform(new_data, labels_true)\"\"\""
      ]
    },
    {
      "cell_type": "markdown",
      "source": [
        "In the block below I split train and test datasets in arbitrary ratio (here is 30% for test and 70% for train)"
      ],
      "metadata": {
        "id": "k0clJrUfxXLc"
      }
    },
    {
      "cell_type": "code",
      "execution_count": null,
      "metadata": {
        "id": "upO1hYq1hyiy"
      },
      "outputs": [],
      "source": [
        "#we split the data with a rate\n",
        "x_train, x_test, y_train, y_test = train_test_split(\n",
        "    new_data, labels_true, test_size=0.3, random_state=0)\n",
        "#now we have train and test splited"
      ]
    },
    {
      "cell_type": "markdown",
      "source": [
        "In next five blocks I used five classification algorithms consist of: </br>\n",
        "1- SVM (Support Vector Classifier)</br>\n",
        "2- DecisionTree Classifier</br>\n",
        "3- KNeighbors Classifier</br>\n",
        "4- GaussianNaiveBayse</br>\n",
        "5- MLP Classifier</br>\n",
        "y_test is true labels, y_pred is the label which is predicted by model. in each block I just compare y_pred and y_test to evaluate how this model works good. "
      ],
      "metadata": {
        "id": "emxIoPT2yMLv"
      }
    },
    {
      "cell_type": "code",
      "execution_count": null,
      "metadata": {
        "id": "51WWXMYyhyiz",
        "outputId": "63d78f78-6887-4dab-b153-5a68aa20822f"
      },
      "outputs": [
        {
          "name": "stdout",
          "output_type": "stream",
          "text": [
            "             precision    recall  f1-score   support\n",
            "\n",
            "    class 1       0.82      0.56      0.67     11124\n",
            "    class 2       0.71      0.90      0.80     13576\n",
            "\n",
            "avg / total       0.76      0.75      0.74     24700\n",
            "\n",
            "(0.7659589759117527, 0.7299019230797754, 0.7310598636789268, None)\n",
            "accuracy: 0.7464777327935223\n",
            "jaccard similarity: 0.7464777327935223\n"
          ]
        }
      ],
      "source": [
        "#SVM (Support Vector Classifier)\n",
        "clf = SVC(gamma='auto', kernel='poly')\n",
        "clf.fit(x_train, y_train)\n",
        "y_pred = clf.predict(x_test)\n",
        "\n",
        "target_names = ['class 1', 'class 2']\n",
        "print(classification_report(y_test, y_pred, target_names=target_names))\n",
        "\n",
        "print(precision_recall_fscore_support(y_test, y_pred, average='macro'))\n",
        "\n",
        "print(\"accuracy: \" + str(accuracy_score(y_test, y_pred)))\n",
        "\n",
        "print(\"jaccard similarity: \" + str(jaccard_similarity_score(y_test, y_pred)))"
      ]
    },
    {
      "cell_type": "code",
      "execution_count": null,
      "metadata": {
        "id": "phWxxjbEhyi2",
        "outputId": "fd1168c8-d67a-4beb-9eae-7a79b8b34db0"
      },
      "outputs": [
        {
          "name": "stdout",
          "output_type": "stream",
          "text": [
            "             precision    recall  f1-score   support\n",
            "\n",
            "    class 1       0.89      0.89      0.89     11124\n",
            "    class 2       0.91      0.91      0.91     13576\n",
            "\n",
            "avg / total       0.90      0.90      0.90     24700\n",
            "\n",
            "(0.9007713716864896, 0.9009705400545032, 0.9008694983351495, None)\n",
            "accuracy: 0.9018218623481782\n",
            "jaccard similarity: 0.9018218623481782\n"
          ]
        }
      ],
      "source": [
        "clf = DecisionTreeClassifier()\n",
        "clf.fit(x_train, y_train)\n",
        "y_pred = clf.predict(x_test)\n",
        "\n",
        "target_names = ['class 1', 'class 2']\n",
        "print(classification_report(y_test, y_pred, target_names=target_names))\n",
        "\n",
        "print(precision_recall_fscore_support(y_test, y_pred, average='macro'))\n",
        "\n",
        "print(\"accuracy: \" + str(accuracy_score(y_test, y_pred)))\n",
        "\n",
        "print(\"jaccard similarity: \" + str(jaccard_similarity_score(y_test, y_pred)))\n",
        "\n",
        "\"\"\"tree.export_graphviz(clf, out_file='tree.dot')\"\"\""
      ]
    },
    {
      "cell_type": "code",
      "execution_count": null,
      "metadata": {
        "id": "dF2qw4V-hyi5",
        "outputId": "af661829-c55c-4a8b-ec4a-722a6d9c76d3"
      },
      "outputs": [
        {
          "data": {
            "text/plain": [
              "'tree.dot.pdf'"
            ]
          },
          "execution_count": 48,
          "metadata": {},
          "output_type": "execute_result"
        }
      ],
      "source": [
        "\"\"\"from graphviz import Source\n",
        "path = 'tree.dot'\n",
        "s = Source.from_file(path)\n",
        "s.view()\"\"\""
      ]
    },
    {
      "cell_type": "code",
      "execution_count": null,
      "metadata": {
        "id": "NHI_aqBYhyi6",
        "outputId": "47791d74-595d-4df0-95b3-67de71421142"
      },
      "outputs": [
        {
          "name": "stdout",
          "output_type": "stream",
          "text": [
            "             precision    recall  f1-score   support\n",
            "\n",
            "    class 1       0.86      0.92      0.89     11124\n",
            "    class 2       0.93      0.88      0.90     13576\n",
            "\n",
            "avg / total       0.90      0.90      0.90     24700\n",
            "\n",
            "(0.8946364358878423, 0.8979239120922617, 0.8954845051092416, None)\n",
            "accuracy: 0.8959919028340081\n",
            "jaccard similarity: 0.8959919028340081\n"
          ]
        }
      ],
      "source": [
        "clf = KNeighborsClassifier(n_neighbors=5)\n",
        "clf.fit(x_train, y_train)\n",
        "y_pred = clf.predict(x_test)\n",
        "\n",
        "target_names = ['class 1', 'class 2']\n",
        "print(classification_report(y_test, y_pred, target_names=target_names))\n",
        "\n",
        "print(precision_recall_fscore_support(y_test, y_pred, average='macro'))\n",
        "\n",
        "print(\"accuracy: \" + str(accuracy_score(y_test, y_pred)))\n",
        "\n",
        "print(\"jaccard similarity: \" + str(jaccard_similarity_score(y_test, y_pred)))"
      ]
    },
    {
      "cell_type": "code",
      "execution_count": null,
      "metadata": {
        "id": "iLdAUpBFhyi7",
        "outputId": "532e1d74-ea2d-4899-9320-64079f6039cf"
      },
      "outputs": [
        {
          "name": "stdout",
          "output_type": "stream",
          "text": [
            "             precision    recall  f1-score   support\n",
            "\n",
            "    class 1       0.70      0.69      0.70     11124\n",
            "    class 2       0.75      0.76      0.75     13576\n",
            "\n",
            "avg / total       0.73      0.73      0.73     24700\n",
            "\n",
            "(0.7263494320536994, 0.7259907308347302, 0.726159309078872, None)\n",
            "accuracy: 0.7290688259109311\n",
            "jaccard similarity: 0.7290688259109311\n"
          ]
        }
      ],
      "source": [
        "clf = GaussianNB()\n",
        "clf.fit(x_train, y_train)\n",
        "y_pred = clf.predict(x_test)\n",
        "\n",
        "target_names = ['class 1', 'class 2']\n",
        "print(classification_report(y_test, y_pred, target_names=target_names))\n",
        "\n",
        "print(precision_recall_fscore_support(y_test, y_pred, average='macro'))\n",
        "\n",
        "print(\"accuracy: \" + str(accuracy_score(y_test, y_pred)))\n",
        "\n",
        "print(\"jaccard similarity: \" + str(jaccard_similarity_score(y_test, y_pred)))"
      ]
    },
    {
      "cell_type": "code",
      "execution_count": null,
      "metadata": {
        "id": "PELUTj5Shyi9",
        "outputId": "cb03223c-6cba-4e7b-c5de-4a83c6dd01eb"
      },
      "outputs": [
        {
          "name": "stdout",
          "output_type": "stream",
          "text": [
            "             precision    recall  f1-score   support\n",
            "\n",
            "    class 1       0.87      0.91      0.89     11124\n",
            "    class 2       0.92      0.89      0.90     13576\n",
            "\n",
            "avg / total       0.90      0.90      0.90     24700\n",
            "\n",
            "(0.895074920982675, 0.8978674955083923, 0.8959927990991897, None)\n",
            "accuracy: 0.8965991902834008\n",
            "jaccard similarity: 0.8965991902834008\n"
          ]
        }
      ],
      "source": [
        "clf = MLPClassifier(solver='lbfgs', alpha=1e-5,\n",
        "                    hidden_layer_sizes=(100, 100), random_state=1)\n",
        "clf.fit(x_train, y_train)\n",
        "y_pred = clf.predict(x_test)\n",
        "\n",
        "target_names = ['class 1', 'class 2']\n",
        "print(classification_report(y_test, y_pred, target_names=target_names))\n",
        "\n",
        "print(precision_recall_fscore_support(y_test, y_pred, average='macro'))\n",
        "\n",
        "print(\"accuracy: \" + str(accuracy_score(y_test, y_pred)))\n",
        "\n",
        "print(\"jaccard similarity: \" + str(jaccard_similarity_score(y_test, y_pred)))"
      ]
    },
    {
      "cell_type": "code",
      "execution_count": null,
      "metadata": {
        "id": "L0W1l_YLhyi_"
      },
      "outputs": [],
      "source": [
        ""
      ]
    }
  ],
  "metadata": {
    "kernelspec": {
      "display_name": "Python 3",
      "language": "python",
      "name": "python3"
    },
    "language_info": {
      "codemirror_mode": {
        "name": "ipython",
        "version": 3
      },
      "file_extension": ".py",
      "mimetype": "text/x-python",
      "name": "python",
      "nbconvert_exporter": "python",
      "pygments_lexer": "ipython3",
      "version": "3.5.5"
    },
    "colab": {
      "name": "Machine Learning Project.ipynb",
      "provenance": [],
      "collapsed_sections": []
    }
  },
  "nbformat": 4,
  "nbformat_minor": 0
}