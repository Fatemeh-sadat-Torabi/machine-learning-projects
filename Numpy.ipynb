{
  "cells": [
    {
      "cell_type": "code",
      "execution_count": 2,
      "metadata": {
        "id": "paTKaUDbFUwh"
      },
      "outputs": [],
      "source": [
        "import numpy as np"
      ]
    },
    {
      "cell_type": "code",
      "execution_count": 3,
      "metadata": {
        "colab": {
          "base_uri": "https://localhost:8080/"
        },
        "id": "f3PjO2rtHBAx",
        "outputId": "1a69af83-756c-4641-e825-7137a3b602a6"
      },
      "outputs": [
        {
          "name": "stdout",
          "output_type": "stream",
          "text": [
            "1.24.2\n"
          ]
        }
      ],
      "source": [
        "print(np.__version__)"
      ]
    },
    {
      "cell_type": "code",
      "execution_count": 4,
      "metadata": {
        "colab": {
          "base_uri": "https://localhost:8080/"
        },
        "id": "5C7jMDt9H55L",
        "outputId": "126a2893-0c02-4704-9f92-ad2a13af026a"
      },
      "outputs": [
        {
          "data": {
            "text/plain": [
              "['ALLOW_THREADS',\n",
              " 'AxisError',\n",
              " 'BUFSIZE',\n",
              " 'CLIP',\n",
              " 'ComplexWarning',\n",
              " 'DataSource',\n",
              " 'ERR_CALL',\n",
              " 'ERR_DEFAULT',\n",
              " 'ERR_IGNORE',\n",
              " 'ERR_LOG',\n",
              " 'ERR_PRINT',\n",
              " 'ERR_RAISE',\n",
              " 'ERR_WARN',\n",
              " 'FLOATING_POINT_SUPPORT',\n",
              " 'FPE_DIVIDEBYZERO',\n",
              " 'FPE_INVALID',\n",
              " 'FPE_OVERFLOW',\n",
              " 'FPE_UNDERFLOW',\n",
              " 'False_',\n",
              " 'Inf',\n",
              " 'Infinity',\n",
              " 'MAXDIMS',\n",
              " 'MAY_SHARE_BOUNDS',\n",
              " 'MAY_SHARE_EXACT',\n",
              " 'ModuleDeprecationWarning',\n",
              " 'NAN',\n",
              " 'NINF',\n",
              " 'NZERO',\n",
              " 'NaN',\n",
              " 'PINF',\n",
              " 'PZERO',\n",
              " 'RAISE',\n",
              " 'RankWarning',\n",
              " 'SHIFT_DIVIDEBYZERO',\n",
              " 'SHIFT_INVALID',\n",
              " 'SHIFT_OVERFLOW',\n",
              " 'SHIFT_UNDERFLOW',\n",
              " 'ScalarType',\n",
              " 'Tester',\n",
              " 'TooHardError',\n",
              " 'True_',\n",
              " 'UFUNC_BUFSIZE_DEFAULT',\n",
              " 'UFUNC_PYVALS_NAME',\n",
              " 'VisibleDeprecationWarning',\n",
              " 'WRAP',\n",
              " '_CopyMode',\n",
              " '_NoValue',\n",
              " '_UFUNC_API',\n",
              " '__NUMPY_SETUP__',\n",
              " '__all__',\n",
              " '__builtins__',\n",
              " '__cached__',\n",
              " '__config__',\n",
              " '__deprecated_attrs__',\n",
              " '__dir__',\n",
              " '__doc__',\n",
              " '__expired_functions__',\n",
              " '__file__',\n",
              " '__former_attrs__',\n",
              " '__future_scalars__',\n",
              " '__getattr__',\n",
              " '__git_version__',\n",
              " '__loader__',\n",
              " '__name__',\n",
              " '__package__',\n",
              " '__path__',\n",
              " '__spec__',\n",
              " '__version__',\n",
              " '_add_newdoc_ufunc',\n",
              " '_builtins',\n",
              " '_distributor_init',\n",
              " '_financial_names',\n",
              " '_get_promotion_state',\n",
              " '_globals',\n",
              " '_int_extended_msg',\n",
              " '_mat',\n",
              " '_no_nep50_warning',\n",
              " '_pyinstaller_hooks_dir',\n",
              " '_pytesttester',\n",
              " '_set_promotion_state',\n",
              " '_specific_msg',\n",
              " '_version',\n",
              " 'abs',\n",
              " 'absolute',\n",
              " 'add',\n",
              " 'add_docstring',\n",
              " 'add_newdoc',\n",
              " 'add_newdoc_ufunc',\n",
              " 'all',\n",
              " 'allclose',\n",
              " 'alltrue',\n",
              " 'amax',\n",
              " 'amin',\n",
              " 'angle',\n",
              " 'any',\n",
              " 'append',\n",
              " 'apply_along_axis',\n",
              " 'apply_over_axes',\n",
              " 'arange',\n",
              " 'arccos',\n",
              " 'arccosh',\n",
              " 'arcsin',\n",
              " 'arcsinh',\n",
              " 'arctan',\n",
              " 'arctan2',\n",
              " 'arctanh',\n",
              " 'argmax',\n",
              " 'argmin',\n",
              " 'argpartition',\n",
              " 'argsort',\n",
              " 'argwhere',\n",
              " 'around',\n",
              " 'array',\n",
              " 'array2string',\n",
              " 'array_equal',\n",
              " 'array_equiv',\n",
              " 'array_repr',\n",
              " 'array_split',\n",
              " 'array_str',\n",
              " 'asanyarray',\n",
              " 'asarray',\n",
              " 'asarray_chkfinite',\n",
              " 'ascontiguousarray',\n",
              " 'asfarray',\n",
              " 'asfortranarray',\n",
              " 'asmatrix',\n",
              " 'atleast_1d',\n",
              " 'atleast_2d',\n",
              " 'atleast_3d',\n",
              " 'average',\n",
              " 'bartlett',\n",
              " 'base_repr',\n",
              " 'binary_repr',\n",
              " 'bincount',\n",
              " 'bitwise_and',\n",
              " 'bitwise_not',\n",
              " 'bitwise_or',\n",
              " 'bitwise_xor',\n",
              " 'blackman',\n",
              " 'block',\n",
              " 'bmat',\n",
              " 'bool_',\n",
              " 'broadcast',\n",
              " 'broadcast_arrays',\n",
              " 'broadcast_shapes',\n",
              " 'broadcast_to',\n",
              " 'busday_count',\n",
              " 'busday_offset',\n",
              " 'busdaycalendar',\n",
              " 'byte',\n",
              " 'byte_bounds',\n",
              " 'bytes_',\n",
              " 'c_',\n",
              " 'can_cast',\n",
              " 'cast',\n",
              " 'cbrt',\n",
              " 'cdouble',\n",
              " 'ceil',\n",
              " 'cfloat',\n",
              " 'char',\n",
              " 'character',\n",
              " 'chararray',\n",
              " 'choose',\n",
              " 'clip',\n",
              " 'clongdouble',\n",
              " 'clongfloat',\n",
              " 'column_stack',\n",
              " 'common_type',\n",
              " 'compare_chararrays',\n",
              " 'compat',\n",
              " 'complex128',\n",
              " 'complex64',\n",
              " 'complex_',\n",
              " 'complexfloating',\n",
              " 'compress',\n",
              " 'concatenate',\n",
              " 'conj',\n",
              " 'conjugate',\n",
              " 'convolve',\n",
              " 'copy',\n",
              " 'copysign',\n",
              " 'copyto',\n",
              " 'corrcoef',\n",
              " 'correlate',\n",
              " 'cos',\n",
              " 'cosh',\n",
              " 'count_nonzero',\n",
              " 'cov',\n",
              " 'cross',\n",
              " 'csingle',\n",
              " 'ctypeslib',\n",
              " 'cumprod',\n",
              " 'cumproduct',\n",
              " 'cumsum',\n",
              " 'datetime64',\n",
              " 'datetime_as_string',\n",
              " 'datetime_data',\n",
              " 'deg2rad',\n",
              " 'degrees',\n",
              " 'delete',\n",
              " 'deprecate',\n",
              " 'deprecate_with_doc',\n",
              " 'diag',\n",
              " 'diag_indices',\n",
              " 'diag_indices_from',\n",
              " 'diagflat',\n",
              " 'diagonal',\n",
              " 'diff',\n",
              " 'digitize',\n",
              " 'disp',\n",
              " 'divide',\n",
              " 'divmod',\n",
              " 'dot',\n",
              " 'double',\n",
              " 'dsplit',\n",
              " 'dstack',\n",
              " 'dtype',\n",
              " 'e',\n",
              " 'ediff1d',\n",
              " 'einsum',\n",
              " 'einsum_path',\n",
              " 'emath',\n",
              " 'empty',\n",
              " 'empty_like',\n",
              " 'equal',\n",
              " 'errstate',\n",
              " 'euler_gamma',\n",
              " 'exp',\n",
              " 'exp2',\n",
              " 'expand_dims',\n",
              " 'expm1',\n",
              " 'extract',\n",
              " 'eye',\n",
              " 'fabs',\n",
              " 'fastCopyAndTranspose',\n",
              " 'fft',\n",
              " 'fill_diagonal',\n",
              " 'find_common_type',\n",
              " 'finfo',\n",
              " 'fix',\n",
              " 'flatiter',\n",
              " 'flatnonzero',\n",
              " 'flexible',\n",
              " 'flip',\n",
              " 'fliplr',\n",
              " 'flipud',\n",
              " 'float16',\n",
              " 'float32',\n",
              " 'float64',\n",
              " 'float_',\n",
              " 'float_power',\n",
              " 'floating',\n",
              " 'floor',\n",
              " 'floor_divide',\n",
              " 'fmax',\n",
              " 'fmin',\n",
              " 'fmod',\n",
              " 'format_float_positional',\n",
              " 'format_float_scientific',\n",
              " 'format_parser',\n",
              " 'frexp',\n",
              " 'from_dlpack',\n",
              " 'frombuffer',\n",
              " 'fromfile',\n",
              " 'fromfunction',\n",
              " 'fromiter',\n",
              " 'frompyfunc',\n",
              " 'fromregex',\n",
              " 'fromstring',\n",
              " 'full',\n",
              " 'full_like',\n",
              " 'gcd',\n",
              " 'generic',\n",
              " 'genfromtxt',\n",
              " 'geomspace',\n",
              " 'get_array_wrap',\n",
              " 'get_include',\n",
              " 'get_printoptions',\n",
              " 'getbufsize',\n",
              " 'geterr',\n",
              " 'geterrcall',\n",
              " 'geterrobj',\n",
              " 'gradient',\n",
              " 'greater',\n",
              " 'greater_equal',\n",
              " 'half',\n",
              " 'hamming',\n",
              " 'hanning',\n",
              " 'heaviside',\n",
              " 'histogram',\n",
              " 'histogram2d',\n",
              " 'histogram_bin_edges',\n",
              " 'histogramdd',\n",
              " 'hsplit',\n",
              " 'hstack',\n",
              " 'hypot',\n",
              " 'i0',\n",
              " 'identity',\n",
              " 'iinfo',\n",
              " 'imag',\n",
              " 'in1d',\n",
              " 'index_exp',\n",
              " 'indices',\n",
              " 'inexact',\n",
              " 'inf',\n",
              " 'info',\n",
              " 'infty',\n",
              " 'inner',\n",
              " 'insert',\n",
              " 'int16',\n",
              " 'int32',\n",
              " 'int64',\n",
              " 'int8',\n",
              " 'int_',\n",
              " 'intc',\n",
              " 'integer',\n",
              " 'interp',\n",
              " 'intersect1d',\n",
              " 'intp',\n",
              " 'invert',\n",
              " 'is_busday',\n",
              " 'isclose',\n",
              " 'iscomplex',\n",
              " 'iscomplexobj',\n",
              " 'isfinite',\n",
              " 'isfortran',\n",
              " 'isin',\n",
              " 'isinf',\n",
              " 'isnan',\n",
              " 'isnat',\n",
              " 'isneginf',\n",
              " 'isposinf',\n",
              " 'isreal',\n",
              " 'isrealobj',\n",
              " 'isscalar',\n",
              " 'issctype',\n",
              " 'issubclass_',\n",
              " 'issubdtype',\n",
              " 'issubsctype',\n",
              " 'iterable',\n",
              " 'ix_',\n",
              " 'kaiser',\n",
              " 'kron',\n",
              " 'lcm',\n",
              " 'ldexp',\n",
              " 'left_shift',\n",
              " 'less',\n",
              " 'less_equal',\n",
              " 'lexsort',\n",
              " 'lib',\n",
              " 'linalg',\n",
              " 'linspace',\n",
              " 'little_endian',\n",
              " 'load',\n",
              " 'loadtxt',\n",
              " 'log',\n",
              " 'log10',\n",
              " 'log1p',\n",
              " 'log2',\n",
              " 'logaddexp',\n",
              " 'logaddexp2',\n",
              " 'logical_and',\n",
              " 'logical_not',\n",
              " 'logical_or',\n",
              " 'logical_xor',\n",
              " 'logspace',\n",
              " 'longcomplex',\n",
              " 'longdouble',\n",
              " 'longfloat',\n",
              " 'longlong',\n",
              " 'lookfor',\n",
              " 'ma',\n",
              " 'mask_indices',\n",
              " 'mat',\n",
              " 'math',\n",
              " 'matmul',\n",
              " 'matrix',\n",
              " 'max',\n",
              " 'maximum',\n",
              " 'maximum_sctype',\n",
              " 'may_share_memory',\n",
              " 'mean',\n",
              " 'median',\n",
              " 'memmap',\n",
              " 'meshgrid',\n",
              " 'mgrid',\n",
              " 'min',\n",
              " 'min_scalar_type',\n",
              " 'minimum',\n",
              " 'mintypecode',\n",
              " 'mod',\n",
              " 'modf',\n",
              " 'moveaxis',\n",
              " 'msort',\n",
              " 'multiply',\n",
              " 'nan',\n",
              " 'nan_to_num',\n",
              " 'nanargmax',\n",
              " 'nanargmin',\n",
              " 'nancumprod',\n",
              " 'nancumsum',\n",
              " 'nanmax',\n",
              " 'nanmean',\n",
              " 'nanmedian',\n",
              " 'nanmin',\n",
              " 'nanpercentile',\n",
              " 'nanprod',\n",
              " 'nanquantile',\n",
              " 'nanstd',\n",
              " 'nansum',\n",
              " 'nanvar',\n",
              " 'nbytes',\n",
              " 'ndarray',\n",
              " 'ndenumerate',\n",
              " 'ndim',\n",
              " 'ndindex',\n",
              " 'nditer',\n",
              " 'negative',\n",
              " 'nested_iters',\n",
              " 'newaxis',\n",
              " 'nextafter',\n",
              " 'nonzero',\n",
              " 'not_equal',\n",
              " 'numarray',\n",
              " 'number',\n",
              " 'obj2sctype',\n",
              " 'object_',\n",
              " 'ogrid',\n",
              " 'oldnumeric',\n",
              " 'ones',\n",
              " 'ones_like',\n",
              " 'outer',\n",
              " 'packbits',\n",
              " 'pad',\n",
              " 'partition',\n",
              " 'percentile',\n",
              " 'pi',\n",
              " 'piecewise',\n",
              " 'place',\n",
              " 'poly',\n",
              " 'poly1d',\n",
              " 'polyadd',\n",
              " 'polyder',\n",
              " 'polydiv',\n",
              " 'polyfit',\n",
              " 'polyint',\n",
              " 'polymul',\n",
              " 'polynomial',\n",
              " 'polysub',\n",
              " 'polyval',\n",
              " 'positive',\n",
              " 'power',\n",
              " 'printoptions',\n",
              " 'prod',\n",
              " 'product',\n",
              " 'promote_types',\n",
              " 'ptp',\n",
              " 'put',\n",
              " 'put_along_axis',\n",
              " 'putmask',\n",
              " 'quantile',\n",
              " 'r_',\n",
              " 'rad2deg',\n",
              " 'radians',\n",
              " 'random',\n",
              " 'ravel',\n",
              " 'ravel_multi_index',\n",
              " 'real',\n",
              " 'real_if_close',\n",
              " 'rec',\n",
              " 'recarray',\n",
              " 'recfromcsv',\n",
              " 'recfromtxt',\n",
              " 'reciprocal',\n",
              " 'record',\n",
              " 'remainder',\n",
              " 'repeat',\n",
              " 'require',\n",
              " 'reshape',\n",
              " 'resize',\n",
              " 'result_type',\n",
              " 'right_shift',\n",
              " 'rint',\n",
              " 'roll',\n",
              " 'rollaxis',\n",
              " 'roots',\n",
              " 'rot90',\n",
              " 'round',\n",
              " 'round_',\n",
              " 'row_stack',\n",
              " 's_',\n",
              " 'safe_eval',\n",
              " 'save',\n",
              " 'savetxt',\n",
              " 'savez',\n",
              " 'savez_compressed',\n",
              " 'sctype2char',\n",
              " 'sctypeDict',\n",
              " 'sctypes',\n",
              " 'searchsorted',\n",
              " 'select',\n",
              " 'set_numeric_ops',\n",
              " 'set_printoptions',\n",
              " 'set_string_function',\n",
              " 'setbufsize',\n",
              " 'setdiff1d',\n",
              " 'seterr',\n",
              " 'seterrcall',\n",
              " 'seterrobj',\n",
              " 'setxor1d',\n",
              " 'shape',\n",
              " 'shares_memory',\n",
              " 'short',\n",
              " 'show_config',\n",
              " 'show_runtime',\n",
              " 'sign',\n",
              " 'signbit',\n",
              " 'signedinteger',\n",
              " 'sin',\n",
              " 'sinc',\n",
              " 'single',\n",
              " 'singlecomplex',\n",
              " 'sinh',\n",
              " 'size',\n",
              " 'sometrue',\n",
              " 'sort',\n",
              " 'sort_complex',\n",
              " 'source',\n",
              " 'spacing',\n",
              " 'split',\n",
              " 'sqrt',\n",
              " 'square',\n",
              " 'squeeze',\n",
              " 'stack',\n",
              " 'std',\n",
              " 'str_',\n",
              " 'string_',\n",
              " 'subtract',\n",
              " 'sum',\n",
              " 'swapaxes',\n",
              " 'take',\n",
              " 'take_along_axis',\n",
              " 'tan',\n",
              " 'tanh',\n",
              " 'tensordot',\n",
              " 'test',\n",
              " 'testing',\n",
              " 'tile',\n",
              " 'timedelta64',\n",
              " 'trace',\n",
              " 'tracemalloc_domain',\n",
              " 'transpose',\n",
              " 'trapz',\n",
              " 'tri',\n",
              " 'tril',\n",
              " 'tril_indices',\n",
              " 'tril_indices_from',\n",
              " 'trim_zeros',\n",
              " 'triu',\n",
              " 'triu_indices',\n",
              " 'triu_indices_from',\n",
              " 'true_divide',\n",
              " 'trunc',\n",
              " 'typecodes',\n",
              " 'typename',\n",
              " 'ubyte',\n",
              " 'ufunc',\n",
              " 'uint',\n",
              " 'uint16',\n",
              " 'uint32',\n",
              " 'uint64',\n",
              " 'uint8',\n",
              " 'uintc',\n",
              " 'uintp',\n",
              " 'ulonglong',\n",
              " 'unicode_',\n",
              " 'union1d',\n",
              " 'unique',\n",
              " 'unpackbits',\n",
              " 'unravel_index',\n",
              " 'unsignedinteger',\n",
              " 'unwrap',\n",
              " 'use_hugepage',\n",
              " 'ushort',\n",
              " 'vander',\n",
              " 'var',\n",
              " 'vdot',\n",
              " 'vectorize',\n",
              " 'version',\n",
              " 'void',\n",
              " 'vsplit',\n",
              " 'vstack',\n",
              " 'where',\n",
              " 'who',\n",
              " 'zeros',\n",
              " 'zeros_like']"
            ]
          },
          "execution_count": 4,
          "metadata": {},
          "output_type": "execute_result"
        }
      ],
      "source": [
        "dir(np)"
      ]
    },
    {
      "cell_type": "code",
      "execution_count": 5,
      "metadata": {
        "colab": {
          "base_uri": "https://localhost:8080/"
        },
        "id": "1fBtSDxqI6m-",
        "outputId": "3a0d7b28-7994-4640-d843-e4e867fa198c"
      },
      "outputs": [
        {
          "name": "stdout",
          "output_type": "stream",
          "text": [
            "Help on class bool_ in module numpy:\n",
            "\n",
            "class bool_(generic)\n",
            " |  Boolean type (True or False), stored as a byte.\n",
            " |  \n",
            " |  .. warning::\n",
            " |  \n",
            " |     The :class:`bool_` type is not a subclass of the :class:`int_` type\n",
            " |     (the :class:`bool_` is not even a number type). This is different\n",
            " |     than Python's default implementation of :class:`bool` as a\n",
            " |     sub-class of :class:`int`.\n",
            " |  \n",
            " |  :Character code: ``'?'``\n",
            " |  :Alias: `numpy.bool8`\n",
            " |  \n",
            " |  Method resolution order:\n",
            " |      bool_\n",
            " |      generic\n",
            " |      builtins.object\n",
            " |  \n",
            " |  Methods defined here:\n",
            " |  \n",
            " |  __and__(self, value, /)\n",
            " |      Return self&value.\n",
            " |  \n",
            " |  __bool__(self, /)\n",
            " |      self != 0\n",
            " |  \n",
            " |  __eq__(self, value, /)\n",
            " |      Return self==value.\n",
            " |  \n",
            " |  __ge__(self, value, /)\n",
            " |      Return self>=value.\n",
            " |  \n",
            " |  __gt__(self, value, /)\n",
            " |      Return self>value.\n",
            " |  \n",
            " |  __hash__(self, /)\n",
            " |      Return hash(self).\n",
            " |  \n",
            " |  __index__(self, /)\n",
            " |      Return self converted to an integer, if self is suitable for use as an index into a list.\n",
            " |  \n",
            " |  __le__(self, value, /)\n",
            " |      Return self<=value.\n",
            " |  \n",
            " |  __lt__(self, value, /)\n",
            " |      Return self<value.\n",
            " |  \n",
            " |  __ne__(self, value, /)\n",
            " |      Return self!=value.\n",
            " |  \n",
            " |  __or__(self, value, /)\n",
            " |      Return self|value.\n",
            " |  \n",
            " |  __rand__(self, value, /)\n",
            " |      Return value&self.\n",
            " |  \n",
            " |  __repr__(self, /)\n",
            " |      Return repr(self).\n",
            " |  \n",
            " |  __ror__(self, value, /)\n",
            " |      Return value|self.\n",
            " |  \n",
            " |  __rxor__(self, value, /)\n",
            " |      Return value^self.\n",
            " |  \n",
            " |  __str__(self, /)\n",
            " |      Return str(self).\n",
            " |  \n",
            " |  __xor__(self, value, /)\n",
            " |      Return self^value.\n",
            " |  \n",
            " |  ----------------------------------------------------------------------\n",
            " |  Static methods defined here:\n",
            " |  \n",
            " |  __new__(*args, **kwargs) from builtins.type\n",
            " |      Create and return a new object.  See help(type) for accurate signature.\n",
            " |  \n",
            " |  ----------------------------------------------------------------------\n",
            " |  Methods inherited from generic:\n",
            " |  \n",
            " |  __abs__(self, /)\n",
            " |      abs(self)\n",
            " |  \n",
            " |  __add__(self, value, /)\n",
            " |      Return self+value.\n",
            " |  \n",
            " |  __array__(...)\n",
            " |      sc.__array__(dtype) return 0-dim array from scalar with specified dtype\n",
            " |  \n",
            " |  __array_wrap__(...)\n",
            " |      sc.__array_wrap__(obj) return scalar from array\n",
            " |  \n",
            " |  __copy__(...)\n",
            " |  \n",
            " |  __deepcopy__(...)\n",
            " |  \n",
            " |  __divmod__(self, value, /)\n",
            " |      Return divmod(self, value).\n",
            " |  \n",
            " |  __float__(self, /)\n",
            " |      float(self)\n",
            " |  \n",
            " |  __floordiv__(self, value, /)\n",
            " |      Return self//value.\n",
            " |  \n",
            " |  __format__(...)\n",
            " |      NumPy array scalar formatter\n",
            " |  \n",
            " |  __getitem__(self, key, /)\n",
            " |      Return self[key].\n",
            " |  \n",
            " |  __int__(self, /)\n",
            " |      int(self)\n",
            " |  \n",
            " |  __invert__(self, /)\n",
            " |      ~self\n",
            " |  \n",
            " |  __lshift__(self, value, /)\n",
            " |      Return self<<value.\n",
            " |  \n",
            " |  __mod__(self, value, /)\n",
            " |      Return self%value.\n",
            " |  \n",
            " |  __mul__(self, value, /)\n",
            " |      Return self*value.\n",
            " |  \n",
            " |  __neg__(self, /)\n",
            " |      -self\n",
            " |  \n",
            " |  __pos__(self, /)\n",
            " |      +self\n",
            " |  \n",
            " |  __pow__(self, value, mod=None, /)\n",
            " |      Return pow(self, value, mod).\n",
            " |  \n",
            " |  __radd__(self, value, /)\n",
            " |      Return value+self.\n",
            " |  \n",
            " |  __rdivmod__(self, value, /)\n",
            " |      Return divmod(value, self).\n",
            " |  \n",
            " |  __reduce__(...)\n",
            " |      Helper for pickle.\n",
            " |  \n",
            " |  __rfloordiv__(self, value, /)\n",
            " |      Return value//self.\n",
            " |  \n",
            " |  __rlshift__(self, value, /)\n",
            " |      Return value<<self.\n",
            " |  \n",
            " |  __rmod__(self, value, /)\n",
            " |      Return value%self.\n",
            " |  \n",
            " |  __rmul__(self, value, /)\n",
            " |      Return value*self.\n",
            " |  \n",
            " |  __rpow__(self, value, mod=None, /)\n",
            " |      Return pow(value, self, mod).\n",
            " |  \n",
            " |  __rrshift__(self, value, /)\n",
            " |      Return value>>self.\n",
            " |  \n",
            " |  __rshift__(self, value, /)\n",
            " |      Return self>>value.\n",
            " |  \n",
            " |  __rsub__(self, value, /)\n",
            " |      Return value-self.\n",
            " |  \n",
            " |  __rtruediv__(self, value, /)\n",
            " |      Return value/self.\n",
            " |  \n",
            " |  __setstate__(...)\n",
            " |  \n",
            " |  __sizeof__(...)\n",
            " |      Size of object in memory, in bytes.\n",
            " |  \n",
            " |  __sub__(self, value, /)\n",
            " |      Return self-value.\n",
            " |  \n",
            " |  __truediv__(self, value, /)\n",
            " |      Return self/value.\n",
            " |  \n",
            " |  all(...)\n",
            " |      Scalar method identical to the corresponding array attribute.\n",
            " |      \n",
            " |      Please see `ndarray.all`.\n",
            " |  \n",
            " |  any(...)\n",
            " |      Scalar method identical to the corresponding array attribute.\n",
            " |      \n",
            " |      Please see `ndarray.any`.\n",
            " |  \n",
            " |  argmax(...)\n",
            " |      Scalar method identical to the corresponding array attribute.\n",
            " |      \n",
            " |      Please see `ndarray.argmax`.\n",
            " |  \n",
            " |  argmin(...)\n",
            " |      Scalar method identical to the corresponding array attribute.\n",
            " |      \n",
            " |      Please see `ndarray.argmin`.\n",
            " |  \n",
            " |  argsort(...)\n",
            " |      Scalar method identical to the corresponding array attribute.\n",
            " |      \n",
            " |      Please see `ndarray.argsort`.\n",
            " |  \n",
            " |  astype(...)\n",
            " |      Scalar method identical to the corresponding array attribute.\n",
            " |      \n",
            " |      Please see `ndarray.astype`.\n",
            " |  \n",
            " |  byteswap(...)\n",
            " |      Scalar method identical to the corresponding array attribute.\n",
            " |      \n",
            " |      Please see `ndarray.byteswap`.\n",
            " |  \n",
            " |  choose(...)\n",
            " |      Scalar method identical to the corresponding array attribute.\n",
            " |      \n",
            " |      Please see `ndarray.choose`.\n",
            " |  \n",
            " |  clip(...)\n",
            " |      Scalar method identical to the corresponding array attribute.\n",
            " |      \n",
            " |      Please see `ndarray.clip`.\n",
            " |  \n",
            " |  compress(...)\n",
            " |      Scalar method identical to the corresponding array attribute.\n",
            " |      \n",
            " |      Please see `ndarray.compress`.\n",
            " |  \n",
            " |  conj(...)\n",
            " |  \n",
            " |  conjugate(...)\n",
            " |      Scalar method identical to the corresponding array attribute.\n",
            " |      \n",
            " |      Please see `ndarray.conjugate`.\n",
            " |  \n",
            " |  copy(...)\n",
            " |      Scalar method identical to the corresponding array attribute.\n",
            " |      \n",
            " |      Please see `ndarray.copy`.\n",
            " |  \n",
            " |  cumprod(...)\n",
            " |      Scalar method identical to the corresponding array attribute.\n",
            " |      \n",
            " |      Please see `ndarray.cumprod`.\n",
            " |  \n",
            " |  cumsum(...)\n",
            " |      Scalar method identical to the corresponding array attribute.\n",
            " |      \n",
            " |      Please see `ndarray.cumsum`.\n",
            " |  \n",
            " |  diagonal(...)\n",
            " |      Scalar method identical to the corresponding array attribute.\n",
            " |      \n",
            " |      Please see `ndarray.diagonal`.\n",
            " |  \n",
            " |  dump(...)\n",
            " |      Scalar method identical to the corresponding array attribute.\n",
            " |      \n",
            " |      Please see `ndarray.dump`.\n",
            " |  \n",
            " |  dumps(...)\n",
            " |      Scalar method identical to the corresponding array attribute.\n",
            " |      \n",
            " |      Please see `ndarray.dumps`.\n",
            " |  \n",
            " |  fill(...)\n",
            " |      Scalar method identical to the corresponding array attribute.\n",
            " |      \n",
            " |      Please see `ndarray.fill`.\n",
            " |  \n",
            " |  flatten(...)\n",
            " |      Scalar method identical to the corresponding array attribute.\n",
            " |      \n",
            " |      Please see `ndarray.flatten`.\n",
            " |  \n",
            " |  getfield(...)\n",
            " |      Scalar method identical to the corresponding array attribute.\n",
            " |      \n",
            " |      Please see `ndarray.getfield`.\n",
            " |  \n",
            " |  item(...)\n",
            " |      Scalar method identical to the corresponding array attribute.\n",
            " |      \n",
            " |      Please see `ndarray.item`.\n",
            " |  \n",
            " |  itemset(...)\n",
            " |      Scalar method identical to the corresponding array attribute.\n",
            " |      \n",
            " |      Please see `ndarray.itemset`.\n",
            " |  \n",
            " |  max(...)\n",
            " |      Scalar method identical to the corresponding array attribute.\n",
            " |      \n",
            " |      Please see `ndarray.max`.\n",
            " |  \n",
            " |  mean(...)\n",
            " |      Scalar method identical to the corresponding array attribute.\n",
            " |      \n",
            " |      Please see `ndarray.mean`.\n",
            " |  \n",
            " |  min(...)\n",
            " |      Scalar method identical to the corresponding array attribute.\n",
            " |      \n",
            " |      Please see `ndarray.min`.\n",
            " |  \n",
            " |  newbyteorder(...)\n",
            " |      newbyteorder(new_order='S', /)\n",
            " |      \n",
            " |      Return a new `dtype` with a different byte order.\n",
            " |      \n",
            " |      Changes are also made in all fields and sub-arrays of the data type.\n",
            " |      \n",
            " |      The `new_order` code can be any from the following:\n",
            " |      \n",
            " |      * 'S' - swap dtype from current to opposite endian\n",
            " |      * {'<', 'little'} - little endian\n",
            " |      * {'>', 'big'} - big endian\n",
            " |      * {'=', 'native'} - native order\n",
            " |      * {'|', 'I'} - ignore (no change to byte order)\n",
            " |      \n",
            " |      Parameters\n",
            " |      ----------\n",
            " |      new_order : str, optional\n",
            " |          Byte order to force; a value from the byte order specifications\n",
            " |          above.  The default value ('S') results in swapping the current\n",
            " |          byte order.\n",
            " |      \n",
            " |      \n",
            " |      Returns\n",
            " |      -------\n",
            " |      new_dtype : dtype\n",
            " |          New `dtype` object with the given change to the byte order.\n",
            " |  \n",
            " |  nonzero(...)\n",
            " |      Scalar method identical to the corresponding array attribute.\n",
            " |      \n",
            " |      Please see `ndarray.nonzero`.\n",
            " |  \n",
            " |  prod(...)\n",
            " |      Scalar method identical to the corresponding array attribute.\n",
            " |      \n",
            " |      Please see `ndarray.prod`.\n",
            " |  \n",
            " |  ptp(...)\n",
            " |      Scalar method identical to the corresponding array attribute.\n",
            " |      \n",
            " |      Please see `ndarray.ptp`.\n",
            " |  \n",
            " |  put(...)\n",
            " |      Scalar method identical to the corresponding array attribute.\n",
            " |      \n",
            " |      Please see `ndarray.put`.\n",
            " |  \n",
            " |  ravel(...)\n",
            " |      Scalar method identical to the corresponding array attribute.\n",
            " |      \n",
            " |      Please see `ndarray.ravel`.\n",
            " |  \n",
            " |  repeat(...)\n",
            " |      Scalar method identical to the corresponding array attribute.\n",
            " |      \n",
            " |      Please see `ndarray.repeat`.\n",
            " |  \n",
            " |  reshape(...)\n",
            " |      Scalar method identical to the corresponding array attribute.\n",
            " |      \n",
            " |      Please see `ndarray.reshape`.\n",
            " |  \n",
            " |  resize(...)\n",
            " |      Scalar method identical to the corresponding array attribute.\n",
            " |      \n",
            " |      Please see `ndarray.resize`.\n",
            " |  \n",
            " |  round(...)\n",
            " |      Scalar method identical to the corresponding array attribute.\n",
            " |      \n",
            " |      Please see `ndarray.round`.\n",
            " |  \n",
            " |  searchsorted(...)\n",
            " |      Scalar method identical to the corresponding array attribute.\n",
            " |      \n",
            " |      Please see `ndarray.searchsorted`.\n",
            " |  \n",
            " |  setfield(...)\n",
            " |      Scalar method identical to the corresponding array attribute.\n",
            " |      \n",
            " |      Please see `ndarray.setfield`.\n",
            " |  \n",
            " |  setflags(...)\n",
            " |      Scalar method identical to the corresponding array attribute.\n",
            " |      \n",
            " |      Please see `ndarray.setflags`.\n",
            " |  \n",
            " |  sort(...)\n",
            " |      Scalar method identical to the corresponding array attribute.\n",
            " |      \n",
            " |      Please see `ndarray.sort`.\n",
            " |  \n",
            " |  squeeze(...)\n",
            " |      Scalar method identical to the corresponding array attribute.\n",
            " |      \n",
            " |      Please see `ndarray.squeeze`.\n",
            " |  \n",
            " |  std(...)\n",
            " |      Scalar method identical to the corresponding array attribute.\n",
            " |      \n",
            " |      Please see `ndarray.std`.\n",
            " |  \n",
            " |  sum(...)\n",
            " |      Scalar method identical to the corresponding array attribute.\n",
            " |      \n",
            " |      Please see `ndarray.sum`.\n",
            " |  \n",
            " |  swapaxes(...)\n",
            " |      Scalar method identical to the corresponding array attribute.\n",
            " |      \n",
            " |      Please see `ndarray.swapaxes`.\n",
            " |  \n",
            " |  take(...)\n",
            " |      Scalar method identical to the corresponding array attribute.\n",
            " |      \n",
            " |      Please see `ndarray.take`.\n",
            " |  \n",
            " |  tobytes(...)\n",
            " |  \n",
            " |  tofile(...)\n",
            " |      Scalar method identical to the corresponding array attribute.\n",
            " |      \n",
            " |      Please see `ndarray.tofile`.\n",
            " |  \n",
            " |  tolist(...)\n",
            " |      Scalar method identical to the corresponding array attribute.\n",
            " |      \n",
            " |      Please see `ndarray.tolist`.\n",
            " |  \n",
            " |  tostring(...)\n",
            " |      Scalar method identical to the corresponding array attribute.\n",
            " |      \n",
            " |      Please see `ndarray.tostring`.\n",
            " |  \n",
            " |  trace(...)\n",
            " |      Scalar method identical to the corresponding array attribute.\n",
            " |      \n",
            " |      Please see `ndarray.trace`.\n",
            " |  \n",
            " |  transpose(...)\n",
            " |      Scalar method identical to the corresponding array attribute.\n",
            " |      \n",
            " |      Please see `ndarray.transpose`.\n",
            " |  \n",
            " |  var(...)\n",
            " |      Scalar method identical to the corresponding array attribute.\n",
            " |      \n",
            " |      Please see `ndarray.var`.\n",
            " |  \n",
            " |  view(...)\n",
            " |      Scalar method identical to the corresponding array attribute.\n",
            " |      \n",
            " |      Please see `ndarray.view`.\n",
            " |  \n",
            " |  ----------------------------------------------------------------------\n",
            " |  Data descriptors inherited from generic:\n",
            " |  \n",
            " |  T\n",
            " |      Scalar attribute identical to the corresponding array attribute.\n",
            " |      \n",
            " |      Please see `ndarray.T`.\n",
            " |  \n",
            " |  __array_interface__\n",
            " |      Array protocol: Python side\n",
            " |  \n",
            " |  __array_priority__\n",
            " |      Array priority.\n",
            " |  \n",
            " |  __array_struct__\n",
            " |      Array protocol: struct\n",
            " |  \n",
            " |  base\n",
            " |      Scalar attribute identical to the corresponding array attribute.\n",
            " |      \n",
            " |      Please see `ndarray.base`.\n",
            " |  \n",
            " |  data\n",
            " |      Pointer to start of data.\n",
            " |  \n",
            " |  dtype\n",
            " |      Get array data-descriptor.\n",
            " |  \n",
            " |  flags\n",
            " |      The integer value of flags.\n",
            " |  \n",
            " |  flat\n",
            " |      A 1-D view of the scalar.\n",
            " |  \n",
            " |  imag\n",
            " |      The imaginary part of the scalar.\n",
            " |  \n",
            " |  itemsize\n",
            " |      The length of one element in bytes.\n",
            " |  \n",
            " |  nbytes\n",
            " |      The length of the scalar in bytes.\n",
            " |  \n",
            " |  ndim\n",
            " |      The number of array dimensions.\n",
            " |  \n",
            " |  real\n",
            " |      The real part of the scalar.\n",
            " |  \n",
            " |  shape\n",
            " |      Tuple of array dimensions.\n",
            " |  \n",
            " |  size\n",
            " |      The number of elements in the gentype.\n",
            " |  \n",
            " |  strides\n",
            " |      Tuple of bytes steps in each dimension.\n",
            "\n"
          ]
        },
        {
          "name": "stderr",
          "output_type": "stream",
          "text": [
            "C:\\Users\\FARZANE.T\\AppData\\Local\\Temp\\ipykernel_1844\\2919462688.py:1: DeprecationWarning: `np.bool8` is a deprecated alias for `np.bool_`.  (Deprecated NumPy 1.24)\n",
            "  help(np.bool8)\n"
          ]
        }
      ],
      "source": [
        "help(np.bool8)"
      ]
    },
    {
      "cell_type": "markdown",
      "metadata": {
        "id": "ss3-JUxiKOoO"
      },
      "source": [
        "# ***Creating Arrays in Numpy***"
      ]
    },
    {
      "cell_type": "code",
      "execution_count": 6,
      "metadata": {
        "colab": {
          "base_uri": "https://localhost:8080/"
        },
        "id": "Cim5NIyjJOom",
        "outputId": "1020c639-0587-42c3-eef1-17ef6768c967"
      },
      "outputs": [
        {
          "name": "stdout",
          "output_type": "stream",
          "text": [
            "[[1 2 3]\n",
            " [4 5 6]\n",
            " [7 8 9]]\n",
            "9\n",
            "4\n"
          ]
        }
      ],
      "source": [
        "x=np.array(\n",
        "  [[1, 2, 3],\n",
        "  [4, 5, 6],\n",
        "  [7, 8, 9]])\n",
        "print(x)\n",
        "print(x.size) # number of elements\n",
        "print(x.itemsize) # size of each element in byte"
      ]
    },
    {
      "cell_type": "code",
      "execution_count": 7,
      "metadata": {
        "colab": {
          "base_uri": "https://localhost:8080/"
        },
        "id": "wfnAFS5tKZml",
        "outputId": "758a6128-a204-40c6-9753-087f5a11dc33"
      },
      "outputs": [
        {
          "name": "stdout",
          "output_type": "stream",
          "text": [
            "[[1 1 1]\n",
            " [4 5 6]\n",
            " [7 8 9]]\n"
          ]
        }
      ],
      "source": [
        "print(np.where(x>3,x,1))"
      ]
    },
    {
      "cell_type": "code",
      "execution_count": 8,
      "metadata": {
        "colab": {
          "base_uri": "https://localhost:8080/"
        },
        "id": "QbaO7-L-Kwj9",
        "outputId": "5ecc4ade-2117-4a22-f194-a9c576f6a15a"
      },
      "outputs": [
        {
          "name": "stdout",
          "output_type": "stream",
          "text": [
            "<class 'numpy.ndarray'>\n"
          ]
        }
      ],
      "source": [
        "print(type(x))"
      ]
    },
    {
      "cell_type": "code",
      "execution_count": 9,
      "metadata": {
        "colab": {
          "base_uri": "https://localhost:8080/"
        },
        "id": "jRLRFTqVLoAB",
        "outputId": "7c555b99-d6af-4200-ad3f-b17f8254af2d"
      },
      "outputs": [
        {
          "name": "stdout",
          "output_type": "stream",
          "text": [
            "(3, 3)\n"
          ]
        }
      ],
      "source": [
        "print(x.shape)"
      ]
    },
    {
      "cell_type": "code",
      "execution_count": 10,
      "metadata": {
        "colab": {
          "base_uri": "https://localhost:8080/"
        },
        "id": "WGraEXFoLtit",
        "outputId": "f749e9fb-4fe0-4435-acda-68e4fe6611c5"
      },
      "outputs": [
        {
          "name": "stdout",
          "output_type": "stream",
          "text": [
            "<class 'int'>\n",
            "<class 'tuple'>\n"
          ]
        }
      ],
      "source": [
        "print(type(4))\n",
        "print(type((4,)))"
      ]
    },
    {
      "cell_type": "code",
      "execution_count": 11,
      "metadata": {
        "colab": {
          "base_uri": "https://localhost:8080/"
        },
        "id": "IkAZ5a93M7_F",
        "outputId": "7b13e76a-c240-44e4-9ec5-a953683a7f9c"
      },
      "outputs": [
        {
          "name": "stdout",
          "output_type": "stream",
          "text": [
            "(3,)\n"
          ]
        }
      ],
      "source": [
        "A = np.array([1,2,3]);\n",
        "print(A.shape)"
      ]
    },
    {
      "cell_type": "code",
      "execution_count": 12,
      "metadata": {
        "colab": {
          "base_uri": "https://localhost:8080/"
        },
        "id": "rOefbQO2NH4x",
        "outputId": "899cc9b7-9c01-4904-b789-b13570311954"
      },
      "outputs": [
        {
          "name": "stdout",
          "output_type": "stream",
          "text": [
            "(3, 4)\n"
          ]
        }
      ],
      "source": [
        "B = np.array([[1,2,3,4],[4,5,6,5],[7,8,9,6]])\n",
        "print(B.shape)"
      ]
    },
    {
      "cell_type": "code",
      "execution_count": 13,
      "metadata": {
        "colab": {
          "base_uri": "https://localhost:8080/"
        },
        "id": "gh_X10KpNTvE",
        "outputId": "cd44f6ca-8a8f-40da-97f5-0ae39c183785"
      },
      "outputs": [
        {
          "name": "stdout",
          "output_type": "stream",
          "text": [
            "3\n"
          ]
        }
      ],
      "source": [
        "print(A.shape[0])"
      ]
    },
    {
      "cell_type": "code",
      "execution_count": 14,
      "metadata": {
        "colab": {
          "base_uri": "https://localhost:8080/"
        },
        "id": "NeC5EfjFNm9I",
        "outputId": "ae051dbd-2e1f-48d0-9d2f-5122064a0bc2"
      },
      "outputs": [
        {
          "name": "stdout",
          "output_type": "stream",
          "text": [
            "4\n"
          ]
        }
      ],
      "source": [
        "print(B.shape[1])"
      ]
    },
    {
      "cell_type": "markdown",
      "metadata": {
        "id": "PZJG10Ot3o9W"
      },
      "source": [
        "# ***Reshapeing an Array***"
      ]
    },
    {
      "cell_type": "code",
      "execution_count": 15,
      "metadata": {
        "colab": {
          "base_uri": "https://localhost:8080/"
        },
        "id": "JsEuFnhSNyMd",
        "outputId": "e27fae4d-174f-4f5a-e280-a9975e2b8981"
      },
      "outputs": [
        {
          "name": "stdout",
          "output_type": "stream",
          "text": [
            "[[1 2 3]\n",
            " [4 4 5]\n",
            " [6 5 7]\n",
            " [8 9 6]]\n"
          ]
        }
      ],
      "source": [
        "print(np.reshape(B,(4,3)))"
      ]
    },
    {
      "cell_type": "code",
      "execution_count": 16,
      "metadata": {
        "colab": {
          "base_uri": "https://localhost:8080/"
        },
        "id": "FJ6SEl9CznO_",
        "outputId": "b50a62ab-b867-4387-ad00-3ccd7e273d29"
      },
      "outputs": [
        {
          "name": "stdout",
          "output_type": "stream",
          "text": [
            "[[1 2 3 4 4 5 6 5 7 8 9 6]]\n"
          ]
        }
      ],
      "source": [
        "print(np.reshape(B,(1,-1)))"
      ]
    },
    {
      "cell_type": "code",
      "execution_count": 17,
      "metadata": {
        "colab": {
          "base_uri": "https://localhost:8080/"
        },
        "id": "6v17f3MN03xX",
        "outputId": "802644e0-0f41-4bd3-df48-7f71be786e24"
      },
      "outputs": [
        {
          "name": "stdout",
          "output_type": "stream",
          "text": [
            "[[1 2]\n",
            " [3 4]\n",
            " [5 6]\n",
            " [7 8]]\n",
            "[[1]\n",
            " [2]\n",
            " [3]\n",
            " [4]\n",
            " [5]\n",
            " [6]\n",
            " [7]\n",
            " [8]]\n"
          ]
        }
      ],
      "source": [
        "C = np.array([[1,2],[3,4],[5,6],[7,8]])\n",
        "print(C)\n",
        "D = np.reshape(C,(-1,1))\n",
        "print(D)"
      ]
    },
    {
      "cell_type": "code",
      "execution_count": 18,
      "metadata": {
        "colab": {
          "base_uri": "https://localhost:8080/"
        },
        "id": "-okLdj7l1wso",
        "outputId": "1a79be71-4449-47b2-eecd-e9eab9067b80"
      },
      "outputs": [
        {
          "name": "stdout",
          "output_type": "stream",
          "text": [
            "[[1 2 3]]\n"
          ]
        }
      ],
      "source": [
        "x = np.array([[1,2,3]])\n",
        "print(x)"
      ]
    },
    {
      "cell_type": "code",
      "execution_count": 19,
      "metadata": {
        "colab": {
          "base_uri": "https://localhost:8080/"
        },
        "id": "u0Wr3kns18y0",
        "outputId": "53adbca8-b99c-4683-b56f-5415d0819835"
      },
      "outputs": [
        {
          "name": "stdout",
          "output_type": "stream",
          "text": [
            "(1, 3)\n",
            "[1 2 3]\n",
            "(3,)\n"
          ]
        }
      ],
      "source": [
        "print(x.shape)\n",
        "y = np.array([1,2,3])\n",
        "print(y)\n",
        "print(y.shape)"
      ]
    },
    {
      "cell_type": "code",
      "execution_count": 20,
      "metadata": {
        "colab": {
          "base_uri": "https://localhost:8080/"
        },
        "id": "Ysx5U0qb2h9h",
        "outputId": "ce4f9676-d558-4c76-d541-4eb898a37ee6"
      },
      "outputs": [
        {
          "name": "stdout",
          "output_type": "stream",
          "text": [
            "[[1]\n",
            " [2]\n",
            " [3]]\n"
          ]
        }
      ],
      "source": [
        "print(y[:,None])"
      ]
    },
    {
      "cell_type": "code",
      "execution_count": 21,
      "metadata": {
        "colab": {
          "base_uri": "https://localhost:8080/"
        },
        "id": "jivRzq9o23s7",
        "outputId": "063baf97-0713-4b15-8452-790faf4fff21"
      },
      "outputs": [
        {
          "name": "stdout",
          "output_type": "stream",
          "text": [
            "[[1]\n",
            " [2]\n",
            " [3]]\n"
          ]
        }
      ],
      "source": [
        "print(y[:,np.newaxis])"
      ]
    },
    {
      "cell_type": "markdown",
      "metadata": {
        "id": "KDVpIRFy3UC9"
      },
      "source": [
        "# ***Array Dimension***"
      ]
    },
    {
      "cell_type": "code",
      "execution_count": 22,
      "metadata": {
        "colab": {
          "base_uri": "https://localhost:8080/"
        },
        "id": "lZ_i3Ckt3Ivo",
        "outputId": "4a56fe14-cc65-4181-b561-41d21848c15e"
      },
      "outputs": [
        {
          "name": "stdout",
          "output_type": "stream",
          "text": [
            "1\n"
          ]
        }
      ],
      "source": [
        "print(y.ndim)"
      ]
    },
    {
      "cell_type": "markdown",
      "metadata": {
        "id": "B9JD_SpcwlL_"
      },
      "source": [
        "# ***DataTypes***"
      ]
    },
    {
      "cell_type": "code",
      "execution_count": 23,
      "metadata": {
        "colab": {
          "base_uri": "https://localhost:8080/"
        },
        "id": "ThV4-2Vzwq7z",
        "outputId": "ce6956b0-da6e-4bfc-9f85-36c1a90fe76e"
      },
      "outputs": [
        {
          "name": "stdout",
          "output_type": "stream",
          "text": [
            "int32\n"
          ]
        }
      ],
      "source": [
        "A = np.array([1,2,3])\n",
        "print (A.dtype)"
      ]
    },
    {
      "cell_type": "code",
      "execution_count": 24,
      "metadata": {
        "colab": {
          "base_uri": "https://localhost:8080/"
        },
        "id": "gkF8BA1rc26l",
        "outputId": "ba6c8c66-91bd-4398-b7ed-8f23fa5d4000"
      },
      "outputs": [
        {
          "name": "stdout",
          "output_type": "stream",
          "text": [
            "float64\n"
          ]
        }
      ],
      "source": [
        "B = np.array([1.,2.,3.])\n",
        "print(B.dtype)"
      ]
    },
    {
      "cell_type": "markdown",
      "metadata": {
        "id": "S48iKp2XdNnw"
      },
      "source": [
        "***How to Convert Data Types:***"
      ]
    },
    {
      "cell_type": "code",
      "execution_count": 25,
      "metadata": {
        "colab": {
          "base_uri": "https://localhost:8080/"
        },
        "id": "O57eq1LCdgCo",
        "outputId": "36a37838-0581-475d-d35d-4a1c6aa42918"
      },
      "outputs": [
        {
          "name": "stdout",
          "output_type": "stream",
          "text": [
            "[1. 2. 3.]\n",
            "float32\n"
          ]
        }
      ],
      "source": [
        "# Using Numpy Data Types!\n",
        "C = np.array(A,dtype=np.float32)\n",
        "print(C)\n",
        "print(C.dtype)"
      ]
    },
    {
      "cell_type": "code",
      "execution_count": 26,
      "metadata": {
        "colab": {
          "base_uri": "https://localhost:8080/"
        },
        "id": "IRZ3xWimeYqM",
        "outputId": "d910a50c-49e4-4cec-999a-b19b8a442835"
      },
      "outputs": [
        {
          "name": "stdout",
          "output_type": "stream",
          "text": [
            "[ 1.  5. 10.]\n",
            "float32\n"
          ]
        }
      ],
      "source": [
        "# Using Python Data Types!\n",
        "D = np.array([1,5,10],dtype=\"float32\")\n",
        "print(D)\n",
        "print(D.dtype)"
      ]
    },
    {
      "cell_type": "code",
      "execution_count": 27,
      "metadata": {
        "colab": {
          "base_uri": "https://localhost:8080/"
        },
        "id": "AJ7y1I2te3iS",
        "outputId": "4b04de7d-8174-45a0-d07e-489b3ca8ff0a"
      },
      "outputs": [
        {
          "name": "stdout",
          "output_type": "stream",
          "text": [
            "int32 float32\n",
            "[[1. 2. 3.]\n",
            " [4. 5. 6.]]\n"
          ]
        }
      ],
      "source": [
        "E = np.array([[1,2,3],[4,5,6]])\n",
        "F = E.astype(np.float32)\n",
        "print(E.dtype,F.dtype)\n",
        "print(F)"
      ]
    },
    {
      "cell_type": "code",
      "execution_count": 28,
      "metadata": {
        "colab": {
          "base_uri": "https://localhost:8080/"
        },
        "id": "rySzaHKqfz22",
        "outputId": "c47a28fd-cc6a-4604-ff51-f57eab4e66ad"
      },
      "outputs": [
        {
          "name": "stdout",
          "output_type": "stream",
          "text": [
            "[(1, 2) (3, 4)]\n",
            "(2,)\n",
            "[('a', '<i4'), ('b', '<i4')]\n"
          ]
        }
      ],
      "source": [
        "# Data Type Consisting of More Than One Element:\n",
        "x = np.array([(1,2),(3,4)],dtype=[('a','<i4'),('b','<i4')])\n",
        "print(x)\n",
        "print(x.shape)\n",
        "print(x.dtype)"
      ]
    },
    {
      "cell_type": "code",
      "execution_count": 29,
      "metadata": {
        "colab": {
          "base_uri": "https://localhost:8080/"
        },
        "id": "hGg_ZxUHk0Or",
        "outputId": "6bc22abc-bc57-400f-d032-022f54ce7a5d"
      },
      "outputs": [
        {
          "name": "stdout",
          "output_type": "stream",
          "text": [
            "[1 3]\n",
            "[2 4]\n"
          ]
        }
      ],
      "source": [
        "print(x['a'])\n",
        "print(x['b'])"
      ]
    },
    {
      "cell_type": "markdown",
      "metadata": {
        "id": "GMYC3O171O36"
      },
      "source": [
        "# ***np.arange()***"
      ]
    },
    {
      "cell_type": "code",
      "execution_count": 30,
      "metadata": {
        "colab": {
          "base_uri": "https://localhost:8080/"
        },
        "id": "72X8nUPxmN41",
        "outputId": "9ff0208a-3745-432a-b3a6-4277585a99e8"
      },
      "outputs": [
        {
          "name": "stdout",
          "output_type": "stream",
          "text": [
            "[ 1  4  7 10 13 16 19 22 25 28]\n",
            "<class 'numpy.ndarray'>\n"
          ]
        }
      ],
      "source": [
        "# limitation: steps should be integer!\n",
        "H = np.arange(1,30,step=3)\n",
        "print(H)\n",
        "print(type(H))"
      ]
    },
    {
      "cell_type": "markdown",
      "metadata": {
        "id": "79EKTUSPKUoK"
      },
      "source": [
        "# ***np.linspace()***"
      ]
    },
    {
      "cell_type": "code",
      "execution_count": 31,
      "metadata": {
        "colab": {
          "base_uri": "https://localhost:8080/"
        },
        "id": "13SZHw4dINkD",
        "outputId": "8712c43c-e69c-4d27-ced3-69053c418389"
      },
      "outputs": [
        {
          "name": "stdout",
          "output_type": "stream",
          "text": [
            "[1.         1.11111111 1.22222222 1.33333333 1.44444444 1.55555556\n",
            " 1.66666667 1.77777778 1.88888889 2.        ]\n",
            "<class 'numpy.ndarray'>\n"
          ]
        }
      ],
      "source": [
        "# for float steps: linear+space! linear: intervals are same!\n",
        "x = np.linspace(1,2,num=10)\n",
        "print(x)\n",
        "print(type(x))"
      ]
    },
    {
      "cell_type": "markdown",
      "metadata": {
        "id": "m422oBL-Lx5y"
      },
      "source": [
        "# ***np.logspace()***"
      ]
    },
    {
      "cell_type": "code",
      "execution_count": 32,
      "metadata": {
        "colab": {
          "base_uri": "https://localhost:8080/"
        },
        "id": "ccbiWMJCLVff",
        "outputId": "1bc9fef6-d905-498a-a3d5-c1f928ae38b4"
      },
      "outputs": [
        {
          "name": "stdout",
          "output_type": "stream",
          "text": [
            "[1.e+01 1.e+02 1.e+03 1.e+04 1.e+05]\n",
            "<class 'numpy.ndarray'>\n"
          ]
        }
      ],
      "source": [
        "# logarithmic (multiply in a number): 1 -> 10 -> 100 -> 1000 \n",
        "z = np.logspace(1,5,num=5) # default base is 10 : 10^1 to 10^5\n",
        "print(z)\n",
        "print(type(z))"
      ]
    },
    {
      "cell_type": "code",
      "execution_count": 33,
      "metadata": {
        "colab": {
          "base_uri": "https://localhost:8080/"
        },
        "id": "eARAGKvxNGGG",
        "outputId": "228f1c77-abef-465b-b67f-121f663a9fb5"
      },
      "outputs": [
        {
          "name": "stdout",
          "output_type": "stream",
          "text": [
            "[ 2.  4.  8. 16. 32.]\n",
            "<class 'numpy.ndarray'>\n"
          ]
        }
      ],
      "source": [
        "z = np.logspace(1,5,num=5,base=2) # base is 2 : 2^1 to 2^5\n",
        "print(z)\n",
        "print(type(z))"
      ]
    },
    {
      "cell_type": "code",
      "execution_count": 34,
      "metadata": {
        "colab": {
          "base_uri": "https://localhost:8080/"
        },
        "id": "R5vjrEU-NlYs",
        "outputId": "5cbad53b-2856-4a21-d77d-1d0d1656ba63"
      },
      "outputs": [
        {
          "name": "stdout",
          "output_type": "stream",
          "text": [
            "[1.00000000e+01 1.20679264e+01 1.45634848e+01 1.75751062e+01\n",
            " 2.12095089e+01 2.55954792e+01 3.08884360e+01 3.72759372e+01\n",
            " 4.49843267e+01 5.42867544e+01 6.55128557e+01 7.90604321e+01\n",
            " 9.54095476e+01 1.15139540e+02 1.38949549e+02 1.67683294e+02\n",
            " 2.02358965e+02 2.44205309e+02 2.94705170e+02 3.55648031e+02\n",
            " 4.29193426e+02 5.17947468e+02 6.25055193e+02 7.54312006e+02\n",
            " 9.10298178e+02 1.09854114e+03 1.32571137e+03 1.59985872e+03\n",
            " 1.93069773e+03 2.32995181e+03 2.81176870e+03 3.39322177e+03\n",
            " 4.09491506e+03 4.94171336e+03 5.96362332e+03 7.19685673e+03\n",
            " 8.68511374e+03 1.04811313e+04 1.26485522e+04 1.52641797e+04\n",
            " 1.84206997e+04 2.22299648e+04 2.68269580e+04 3.23745754e+04\n",
            " 3.90693994e+04 4.71486636e+04 5.68986603e+04 6.86648845e+04\n",
            " 8.28642773e+04 1.00000000e+05]\n",
            "<class 'numpy.ndarray'>\n"
          ]
        }
      ],
      "source": [
        "z = np.logspace(1,5) # default num = 50 \n",
        "print(z)\n",
        "print(type(z))"
      ]
    },
    {
      "cell_type": "markdown",
      "metadata": {
        "id": "FPYEfIFYSiO3"
      },
      "source": [
        "# ***np.set_printoptions***"
      ]
    },
    {
      "cell_type": "code",
      "execution_count": 35,
      "metadata": {
        "colab": {
          "base_uri": "https://localhost:8080/"
        },
        "id": "v5sMeI3JQBD6",
        "outputId": "1434251d-2591-4ac5-a8bc-25ecc5609deb"
      },
      "outputs": [
        {
          "name": "stdout",
          "output_type": "stream",
          "text": [
            "[10.00 12.07 14.56 17.58 21.21 25.60 30.89 37.28 44.98 54.29 65.51 79.06\n",
            " 95.41 115.14 138.95 167.68 202.36 244.21 294.71 355.65 429.19 517.95\n",
            " 625.06 754.31 910.30 1098.54 1325.71 1599.86 1930.70 2329.95 2811.77\n",
            " 3393.22 4094.92 4941.71 5963.62 7196.86 8685.11 10481.13 12648.55\n",
            " 15264.18 18420.70 22229.96 26826.96 32374.58 39069.40 47148.66 56898.66\n",
            " 68664.88 82864.28 100000.00]\n"
          ]
        }
      ],
      "source": [
        "# to change defaults in print form of numbers: (%f: Float Number)\n",
        "np.set_printoptions(formatter={'all': lambda x:'%.2f' %x})\n",
        "print(z)"
      ]
    },
    {
      "cell_type": "code",
      "execution_count": 36,
      "metadata": {
        "colab": {
          "base_uri": "https://localhost:8080/"
        },
        "id": "__BXa8a0Rw0n",
        "outputId": "221efdc3-2974-48f7-ed13-604ccf314e4a"
      },
      "outputs": [
        {
          "name": "stdout",
          "output_type": "stream",
          "text": [
            "[10 12 14 17 21 25 30 37 44 54 65 79 95 115 138 167 202 244 294 355 429\n",
            " 517 625 754 910 1098 1325 1599 1930 2329 2811 3393 4094 4941 5963 7196\n",
            " 8685 10481 12648 15264 18420 22229 26826 32374 39069 47148 56898 68664\n",
            " 82864 100000]\n"
          ]
        }
      ],
      "source": [
        "# to change defaults in print form of numbers: (%d: Decimal Number)\n",
        "np.set_printoptions(formatter={'all': lambda x:'%d' %x})\n",
        "print(z)"
      ]
    },
    {
      "cell_type": "code",
      "execution_count": 37,
      "metadata": {
        "colab": {
          "base_uri": "https://localhost:8080/"
        },
        "id": "Z1RGlk-oTdeC",
        "outputId": "e5dd82cf-7b62-4fcf-dba1-9d01ad3a5aca"
      },
      "outputs": [
        {
          "name": "stdout",
          "output_type": "stream",
          "text": [
            "[1.00000000e+01 1.20679264e+01 1.45634848e+01 1.75751062e+01\n",
            " 2.12095089e+01 2.55954792e+01 3.08884360e+01 3.72759372e+01\n",
            " 4.49843267e+01 5.42867544e+01 6.55128557e+01 7.90604321e+01\n",
            " 9.54095476e+01 1.15139540e+02 1.38949549e+02 1.67683294e+02\n",
            " 2.02358965e+02 2.44205309e+02 2.94705170e+02 3.55648031e+02\n",
            " 4.29193426e+02 5.17947468e+02 6.25055193e+02 7.54312006e+02\n",
            " 9.10298178e+02 1.09854114e+03 1.32571137e+03 1.59985872e+03\n",
            " 1.93069773e+03 2.32995181e+03 2.81176870e+03 3.39322177e+03\n",
            " 4.09491506e+03 4.94171336e+03 5.96362332e+03 7.19685673e+03\n",
            " 8.68511374e+03 1.04811313e+04 1.26485522e+04 1.52641797e+04\n",
            " 1.84206997e+04 2.22299648e+04 2.68269580e+04 3.23745754e+04\n",
            " 3.90693994e+04 4.71486636e+04 5.68986603e+04 6.86648845e+04\n",
            " 8.28642773e+04 1.00000000e+05]\n"
          ]
        }
      ],
      "source": [
        "# How to reset numpy print options!!\n",
        "np.set_printoptions()\n",
        "print(z)"
      ]
    },
    {
      "cell_type": "code",
      "execution_count": 38,
      "metadata": {
        "colab": {
          "base_uri": "https://localhost:8080/"
        },
        "id": "vy1JKwanT9FV",
        "outputId": "b101cb27-df10-4a59-ea56-7319f1b40b04"
      },
      "outputs": [
        {
          "name": "stdout",
          "output_type": "stream",
          "text": [
            "[1.000e+01 1.207e+01 1.456e+01 1.758e+01 2.121e+01 2.560e+01 3.089e+01\n",
            " 3.728e+01 4.498e+01 5.429e+01 6.551e+01 7.906e+01 9.541e+01 1.151e+02\n",
            " 1.389e+02 1.677e+02 2.024e+02 2.442e+02 2.947e+02 3.556e+02 4.292e+02\n",
            " 5.179e+02 6.251e+02 7.543e+02 9.103e+02 1.099e+03 1.326e+03 1.600e+03\n",
            " 1.931e+03 2.330e+03 2.812e+03 3.393e+03 4.095e+03 4.942e+03 5.964e+03\n",
            " 7.197e+03 8.685e+03 1.048e+04 1.265e+04 1.526e+04 1.842e+04 2.223e+04\n",
            " 2.683e+04 3.237e+04 3.907e+04 4.715e+04 5.690e+04 6.866e+04 8.286e+04\n",
            " 1.000e+05]\n"
          ]
        }
      ],
      "source": [
        "# use np.set_printoptions for setting precision, thresholds and so on.\n",
        "np.set_printoptions(precision=3)\n",
        "print(z)"
      ]
    },
    {
      "cell_type": "code",
      "execution_count": 39,
      "metadata": {
        "colab": {
          "base_uri": "https://localhost:8080/",
          "height": 371
        },
        "id": "mb3HqVEsN8yP",
        "outputId": "c029ab0e-9d74-4bed-c24c-e363d64a656b"
      },
      "outputs": [
        {
          "name": "stdout",
          "output_type": "stream",
          "text": [
            "[-10  -9  -8  -7  -6  -5  -4  -3  -2  -1   0   1   2   3   4   5   6   7\n",
            "   8   9]\n",
            "[-10  -9  -8  -7  -6  -5  -4  -3  -2  -1   0   1   2   3   4   5   6   7\n",
            "   8   9]\n",
            "[100  81  64  49  36  25  16   9   4   1   0   1   4   9  16  25  36  49\n",
            "  64  81]\n"
          ]
        },
        {
          "data": {
            "image/png": "[encoded data removed]",
            "text/plain": [
              "<Figure size 640x480 with 1 Axes>"
            ]
          },
          "metadata": {},
          "output_type": "display_data"
        }
      ],
      "source": [
        "#(arange,linspace,logspace: useful for plotting functions in an interval)\n",
        "#f(x)=x , g(x)=x^2\n",
        "x = np.arange(-10,10,step=1)\n",
        "fx = x\n",
        "gx = pow(x,2)\n",
        "print(x)\n",
        "print(fx)\n",
        "print(gx)\n",
        "import matplotlib.pyplot as plt\n",
        "plt.plot(x,gx)\n",
        "plt.show()"
      ]
    },
    {
      "cell_type": "markdown",
      "metadata": {
        "id": "Pt8cTeiWUe0J"
      },
      "source": [
        "# ***How to Create Specific Arrays? (zeros,ones,full,eye)***"
      ]
    },
    {
      "cell_type": "code",
      "execution_count": 40,
      "metadata": {
        "colab": {
          "base_uri": "https://localhost:8080/"
        },
        "id": "o9VxglREUr2H",
        "outputId": "6bd0937c-83da-48bd-bad2-4beee4d7ccd1"
      },
      "outputs": [
        {
          "name": "stdout",
          "output_type": "stream",
          "text": [
            "[[0. 0. 0.]\n",
            " [0. 0. 0.]\n",
            " [0. 0. 0.]\n",
            " [0. 0. 0.]]\n"
          ]
        }
      ],
      "source": [
        "print(np.zeros(shape=(4,3)))"
      ]
    },
    {
      "cell_type": "code",
      "execution_count": 41,
      "metadata": {
        "colab": {
          "base_uri": "https://localhost:8080/"
        },
        "id": "nIwUOn3pVk1A",
        "outputId": "830bd3c7-9299-4940-b3da-3eacaeae28b4"
      },
      "outputs": [
        {
          "name": "stdout",
          "output_type": "stream",
          "text": [
            "[[1. 1. 1.]\n",
            " [1. 1. 1.]]\n"
          ]
        }
      ],
      "source": [
        "print(np.ones(shape=(2,3)))"
      ]
    },
    {
      "cell_type": "code",
      "execution_count": 42,
      "metadata": {
        "colab": {
          "base_uri": "https://localhost:8080/"
        },
        "id": "xqZCHtrjVqDF",
        "outputId": "5b039c97-66f3-4616-e415-f86567ebab92"
      },
      "outputs": [
        {
          "name": "stdout",
          "output_type": "stream",
          "text": [
            "[[1 1 1]\n",
            " [1 1 1]]\n"
          ]
        }
      ],
      "source": [
        "# integer number makes programs run more fast with lower memory.\n",
        "print(np.ones(shape=(2,3),dtype=np.int32))"
      ]
    },
    {
      "cell_type": "code",
      "execution_count": 43,
      "metadata": {
        "colab": {
          "base_uri": "https://localhost:8080/"
        },
        "id": "QWdAfHU3WGq_",
        "outputId": "482ad026-a6dd-437d-ce7a-02fb009f6870"
      },
      "outputs": [
        {
          "name": "stdout",
          "output_type": "stream",
          "text": [
            "[[6 6 6]\n",
            " [6 6 6]]\n"
          ]
        }
      ],
      "source": [
        "print(6*np.ones(shape=(2,3),dtype=np.int32))"
      ]
    },
    {
      "cell_type": "code",
      "execution_count": 44,
      "metadata": {
        "colab": {
          "base_uri": "https://localhost:8080/"
        },
        "id": "dhu56nSMWolv",
        "outputId": "b6650b84-e322-419f-90b6-182612433c0f"
      },
      "outputs": [
        {
          "name": "stdout",
          "output_type": "stream",
          "text": [
            "[[8 8]\n",
            " [8 8]\n",
            " [8 8]]\n"
          ]
        }
      ],
      "source": [
        "print(np.full((3,2),8))"
      ]
    },
    {
      "cell_type": "code",
      "execution_count": 45,
      "metadata": {
        "colab": {
          "base_uri": "https://localhost:8080/"
        },
        "id": "SCZz6HV0XF8i",
        "outputId": "cc3978b7-2a88-40be-da0d-18e33b063680"
      },
      "outputs": [
        {
          "name": "stdout",
          "output_type": "stream",
          "text": [
            "[[1. 0. 0. 0.]\n",
            " [0. 1. 0. 0.]\n",
            " [0. 0. 1. 0.]\n",
            " [0. 0. 0. 1.]]\n"
          ]
        }
      ],
      "source": [
        "print(np.eye(4))"
      ]
    },
    {
      "cell_type": "markdown",
      "metadata": {
        "id": "J0deGyIfXsHa"
      },
      "source": [
        "Question: Create an array filled with the following values:\n",
        "[[1,2,3],[4,5,6],[7,8,9]]"
      ]
    },
    {
      "cell_type": "code",
      "execution_count": 46,
      "metadata": {
        "colab": {
          "base_uri": "https://localhost:8080/"
        },
        "id": "XqoQ1rnvX_Zc",
        "outputId": "1cad4fef-a444-4776-be0e-6e93b5a038bd"
      },
      "outputs": [
        {
          "name": "stdout",
          "output_type": "stream",
          "text": [
            "[[1 2 3]\n",
            " [4 5 6]\n",
            " [7 8 9]]\n"
          ]
        }
      ],
      "source": [
        "print(np.reshape(np.arange(1,10,step=1),(3,3)))"
      ]
    },
    {
      "cell_type": "markdown",
      "metadata": {
        "id": "WfC1IQ32ZF8L"
      },
      "source": [
        "Question: Create an array filled with the following values:[[0,0,1],[0,1,0],[1,0,0]]"
      ]
    },
    {
      "cell_type": "code",
      "execution_count": 47,
      "metadata": {
        "colab": {
          "base_uri": "https://localhost:8080/"
        },
        "id": "cDc-EseuZR8a",
        "outputId": "7bae8d7c-f7b8-4f36-f2c2-44aa081403aa"
      },
      "outputs": [
        {
          "name": "stdout",
          "output_type": "stream",
          "text": [
            "[[0. 0. 1.]\n",
            " [0. 1. 0.]\n",
            " [1. 0. 0.]]\n"
          ]
        }
      ],
      "source": [
        "print(np.fliplr(np.eye(3)))"
      ]
    },
    {
      "cell_type": "markdown",
      "metadata": {
        "id": "E1F9Tm0yZ8Ol"
      },
      "source": [
        "# ***How to Create Random Arrays:***"
      ]
    },
    {
      "cell_type": "code",
      "execution_count": 48,
      "metadata": {
        "colab": {
          "base_uri": "https://localhost:8080/"
        },
        "id": "ntN6FPnLaCAX",
        "outputId": "3b95f410-d342-4924-d8e5-ad6a918edee2"
      },
      "outputs": [
        {
          "data": {
            "text/plain": [
              "['BitGenerator',\n",
              " 'Generator',\n",
              " 'MT19937',\n",
              " 'PCG64',\n",
              " 'PCG64DXSM',\n",
              " 'Philox',\n",
              " 'RandomState',\n",
              " 'SFC64',\n",
              " 'SeedSequence',\n",
              " '__RandomState_ctor',\n",
              " '__all__',\n",
              " '__builtins__',\n",
              " '__cached__',\n",
              " '__doc__',\n",
              " '__file__',\n",
              " '__loader__',\n",
              " '__name__',\n",
              " '__package__',\n",
              " '__path__',\n",
              " '__spec__',\n",
              " '_bounded_integers',\n",
              " '_common',\n",
              " '_generator',\n",
              " '_mt19937',\n",
              " '_pcg64',\n",
              " '_philox',\n",
              " '_pickle',\n",
              " '_sfc64',\n",
              " 'beta',\n",
              " 'binomial',\n",
              " 'bit_generator',\n",
              " 'bytes',\n",
              " 'chisquare',\n",
              " 'choice',\n",
              " 'default_rng',\n",
              " 'dirichlet',\n",
              " 'exponential',\n",
              " 'f',\n",
              " 'gamma',\n",
              " 'geometric',\n",
              " 'get_bit_generator',\n",
              " 'get_state',\n",
              " 'gumbel',\n",
              " 'hypergeometric',\n",
              " 'laplace',\n",
              " 'logistic',\n",
              " 'lognormal',\n",
              " 'logseries',\n",
              " 'mtrand',\n",
              " 'multinomial',\n",
              " 'multivariate_normal',\n",
              " 'negative_binomial',\n",
              " 'noncentral_chisquare',\n",
              " 'noncentral_f',\n",
              " 'normal',\n",
              " 'pareto',\n",
              " 'permutation',\n",
              " 'poisson',\n",
              " 'power',\n",
              " 'rand',\n",
              " 'randint',\n",
              " 'randn',\n",
              " 'random',\n",
              " 'random_integers',\n",
              " 'random_sample',\n",
              " 'ranf',\n",
              " 'rayleigh',\n",
              " 'sample',\n",
              " 'seed',\n",
              " 'set_bit_generator',\n",
              " 'set_state',\n",
              " 'shuffle',\n",
              " 'standard_cauchy',\n",
              " 'standard_exponential',\n",
              " 'standard_gamma',\n",
              " 'standard_normal',\n",
              " 'standard_t',\n",
              " 'test',\n",
              " 'triangular',\n",
              " 'uniform',\n",
              " 'vonmises',\n",
              " 'wald',\n",
              " 'weibull',\n",
              " 'zipf']"
            ]
          },
          "execution_count": 48,
          "metadata": {},
          "output_type": "execute_result"
        }
      ],
      "source": [
        "#random is a package inside of numpy package! it is not a function\n",
        "dir(np.random)"
      ]
    },
    {
      "cell_type": "code",
      "execution_count": 49,
      "metadata": {
        "colab": {
          "base_uri": "https://localhost:8080/"
        },
        "id": "X5JDsu6HbDEd",
        "outputId": "bfc469b2-ab9a-4cb8-ce05-f31332b1733d"
      },
      "outputs": [
        {
          "name": "stdout",
          "output_type": "stream",
          "text": [
            "[[0.779 0.246 0.446 0.214]\n",
            " [0.504 0.238 0.683 0.352]\n",
            " [0.713 0.254 0.992 0.713]]\n"
          ]
        }
      ],
      "source": [
        "print(np.random.rand(3,4))"
      ]
    },
    {
      "cell_type": "code",
      "execution_count": 50,
      "metadata": {
        "colab": {
          "base_uri": "https://localhost:8080/"
        },
        "id": "IhEFs33hb-j1",
        "outputId": "a3125eeb-c2a2-45af-de65-023285c145e6"
      },
      "outputs": [
        {
          "name": "stdout",
          "output_type": "stream",
          "text": [
            "[[ 1.396  1.125  0.52  -0.227]\n",
            " [-0.051 -0.962 -0.314 -0.589]\n",
            " [-1.321  1.495  0.564 -0.5  ]]\n"
          ]
        }
      ],
      "source": [
        "# create a 3*4 matrix from normal distribution\n",
        "# then how to test numbers are with normal dist?plot hist\n",
        "print(np.random.randn(3,4))"
      ]
    },
    {
      "cell_type": "code",
      "execution_count": 51,
      "metadata": {
        "colab": {
          "base_uri": "https://localhost:8080/",
          "height": 371
        },
        "id": "oVozzi-Wc79J",
        "outputId": "e801866c-1b0f-4dd5-80be-db3857b0db44"
      },
      "outputs": [
        {
          "data": {
            "text/plain": [
              "(array([6.000e+01, 7.230e+02, 5.444e+03, 1.828e+04, 3.207e+04, 2.806e+04,\n",
              "        1.232e+04, 2.710e+03, 3.200e+02, 1.800e+01]),\n",
              " array([-4.105, -3.251, -2.398, -1.544, -0.69 ,  0.164,  1.018,  1.872,\n",
              "         2.725,  3.579,  4.433]),\n",
              " <BarContainer object of 10 artists>)"
            ]
          },
          "execution_count": 51,
          "metadata": {},
          "output_type": "execute_result"
        },
        {
          "data": {
            "image/png": "[encoded data removed]",
            "text/plain": [
              "<Figure size 640x480 with 1 Axes>"
            ]
          },
          "metadata": {},
          "output_type": "display_data"
        }
      ],
      "source": [
        "# mu : 0 , sigma^2 : 1\n",
        "x=np.random.randn(100000)\n",
        "plt.hist(x)"
      ]
    },
    {
      "cell_type": "code",
      "execution_count": 52,
      "metadata": {
        "colab": {
          "base_uri": "https://localhost:8080/",
          "height": 566
        },
        "id": "W3_MZCHreBYJ",
        "outputId": "38707bf9-7afb-408d-a70b-98cde449c0d6"
      },
      "outputs": [
        {
          "data": {
            "text/plain": [
              "(array([1.000e+00, 0.000e+00, 0.000e+00, 1.000e+00, 0.000e+00, 1.000e+00,\n",
              "        8.000e+00, 8.000e+00, 1.500e+01, 1.900e+01, 4.200e+01, 8.300e+01,\n",
              "        1.640e+02, 2.690e+02, 4.780e+02, 6.920e+02, 1.014e+03, 1.454e+03,\n",
              "        1.934e+03, 2.710e+03, 3.485e+03, 4.323e+03, 5.259e+03, 5.909e+03,\n",
              "        6.702e+03, 7.302e+03, 7.498e+03, 7.538e+03, 7.064e+03, 6.862e+03,\n",
              "        6.129e+03, 5.323e+03, 4.530e+03, 3.599e+03, 2.861e+03, 2.122e+03,\n",
              "        1.573e+03, 1.027e+03, 7.260e+02, 5.130e+02, 2.980e+02, 2.040e+02,\n",
              "        1.280e+02, 5.600e+01, 3.700e+01, 1.700e+01, 1.300e+01, 5.000e+00,\n",
              "        2.000e+00, 2.000e+00]),\n",
              " array([-5.139, -4.949, -4.759, -4.57 , -4.38 , -4.191, -4.001, -3.811,\n",
              "        -3.622, -3.432, -3.243, -3.053, -2.863, -2.674, -2.484, -2.294,\n",
              "        -2.105, -1.915, -1.726, -1.536, -1.346, -1.157, -0.967, -0.777,\n",
              "        -0.588, -0.398, -0.209, -0.019,  0.171,  0.36 ,  0.55 ,  0.739,\n",
              "         0.929,  1.119,  1.308,  1.498,  1.688,  1.877,  2.067,  2.256,\n",
              "         2.446,  2.636,  2.825,  3.015,  3.204,  3.394,  3.584,  3.773,\n",
              "         3.963,  4.153,  4.342]),\n",
              " <BarContainer object of 50 artists>)"
            ]
          },
          "execution_count": 52,
          "metadata": {},
          "output_type": "execute_result"
        },
        {
          "data": {
            "image/png": "[encoded data removed]",
            "text/plain": [
              "<Figure size 640x480 with 1 Axes>"
            ]
          },
          "metadata": {},
          "output_type": "display_data"
        }
      ],
      "source": [
        "# mu : 0 , sigma^2 : 1\n",
        "x=np.random.randn(100000)\n",
        "plt.hist(x,bins=50)"
      ]
    },
    {
      "cell_type": "code",
      "execution_count": 53,
      "metadata": {
        "colab": {
          "base_uri": "https://localhost:8080/",
          "height": 566
        },
        "id": "NclzzRlyexfe",
        "outputId": "2aba2c4d-a1fb-4f3a-833f-64401834a997"
      },
      "outputs": [
        {
          "data": {
            "text/plain": [
              "(array([1.000e+00, 0.000e+00, 0.000e+00, 3.000e+00, 6.000e+00, 1.200e+01,\n",
              "        1.500e+01, 3.300e+01, 6.500e+01, 1.090e+02, 1.630e+02, 2.890e+02,\n",
              "        4.490e+02, 6.870e+02, 9.570e+02, 1.472e+03, 1.887e+03, 2.757e+03,\n",
              "        3.315e+03, 4.129e+03, 4.954e+03, 5.762e+03, 6.372e+03, 6.820e+03,\n",
              "        7.188e+03, 7.375e+03, 7.109e+03, 6.762e+03, 6.195e+03, 5.461e+03,\n",
              "        4.728e+03, 3.868e+03, 3.034e+03, 2.385e+03, 1.744e+03, 1.411e+03,\n",
              "        8.680e+02, 5.870e+02, 4.130e+02, 2.470e+02, 1.610e+02, 9.300e+01,\n",
              "        5.400e+01, 2.700e+01, 1.700e+01, 5.000e+00, 6.000e+00, 3.000e+00,\n",
              "        1.000e+00, 1.000e+00]),\n",
              " array([-1.596, -1.336, -1.076, -0.815, -0.555, -0.295, -0.035,  0.226,\n",
              "         0.486,  0.746,  1.007,  1.267,  1.527,  1.787,  2.048,  2.308,\n",
              "         2.568,  2.828,  3.089,  3.349,  3.609,  3.87 ,  4.13 ,  4.39 ,\n",
              "         4.65 ,  4.911,  5.171,  5.431,  5.692,  5.952,  6.212,  6.472,\n",
              "         6.733,  6.993,  7.253,  7.513,  7.774,  8.034,  8.294,  8.555,\n",
              "         8.815,  9.075,  9.335,  9.596,  9.856, 10.116, 10.377, 10.637,\n",
              "        10.897, 11.157, 11.418]),\n",
              " <BarContainer object of 50 artists>)"
            ]
          },
          "execution_count": 53,
          "metadata": {},
          "output_type": "execute_result"
        },
        {
          "data": {
            "image/png": "[encoded data removed]",
            "text/plain": [
              "<Figure size 640x480 with 1 Axes>"
            ]
          },
          "metadata": {},
          "output_type": "display_data"
        }
      ],
      "source": [
        "# mu : 5 , sigma^2 : 2 -> sigma * N(0,1) + mu\n",
        "x = np.sqrt(2.0) * np.random.randn(100000) + 5.0\n",
        "plt.hist(x,bins=50)"
      ]
    },
    {
      "cell_type": "code",
      "execution_count": 54,
      "metadata": {
        "colab": {
          "base_uri": "https://localhost:8080/"
        },
        "id": "SxK5F-92fwEF",
        "outputId": "b639d6ce-0b94-4695-fbaf-489830ae9546"
      },
      "outputs": [
        {
          "name": "stdout",
          "output_type": "stream",
          "text": [
            "[[4 3 1 2]\n",
            " [4 0 2 3]]\n"
          ]
        }
      ],
      "source": [
        "# random Int in [0,5)\n",
        "print(np.random.randint(5,size=(2,4)))"
      ]
    },
    {
      "cell_type": "code",
      "execution_count": 55,
      "metadata": {
        "colab": {
          "base_uri": "https://localhost:8080/"
        },
        "id": "sDY2dWovgSfx",
        "outputId": "506d94be-aa7a-4a41-8105-6c001c7c65a7"
      },
      "outputs": [
        {
          "name": "stdout",
          "output_type": "stream",
          "text": [
            "[[0 1 0 0 1 0 0 1 1 0 0 0 0 1 0 1 1 0 0 1]]\n"
          ]
        }
      ],
      "source": [
        "# to produce Binary String : random int in [0,2)\n",
        "print(np.random.randint(2,size=(1,20)))"
      ]
    },
    {
      "cell_type": "code",
      "execution_count": 56,
      "metadata": {
        "colab": {
          "base_uri": "https://localhost:8080/"
        },
        "id": "a-cFP7blhAQK",
        "outputId": "aeab9d85-3628-4ed0-8b7c-a9a78347f13a"
      },
      "outputs": [
        {
          "name": "stdout",
          "output_type": "stream",
          "text": [
            "500\n"
          ]
        }
      ],
      "source": [
        "m = np.random.randint(2,size=(1,1000))\n",
        "print(np.count_nonzero(m))"
      ]
    },
    {
      "cell_type": "markdown",
      "metadata": {
        "id": "6ie4uLoXPN4M"
      },
      "source": [
        "# ***some of the useful functions in np.random package:***"
      ]
    },
    {
      "cell_type": "code",
      "execution_count": 57,
      "metadata": {
        "colab": {
          "base_uri": "https://localhost:8080/"
        },
        "id": "KzqyntTGhLWH",
        "outputId": "006796c5-d30d-4cf5-a82d-9fa012f41302"
      },
      "outputs": [
        {
          "name": "stdout",
          "output_type": "stream",
          "text": [
            "79\n"
          ]
        }
      ],
      "source": [
        "# to generate same random numbers as before! \n",
        "# try with different numbers to find the best.\n",
        "# then for repeat the tests with same number just do it.\n",
        "np.random.seed(5)\n",
        "print(np.random.randint(1,100))"
      ]
    },
    {
      "cell_type": "code",
      "execution_count": 58,
      "metadata": {
        "colab": {
          "base_uri": "https://localhost:8080/"
        },
        "id": "hdKIHEaJQ2pL",
        "outputId": "c3e845e2-b0c3-48a0-fede-8a4133832fdd"
      },
      "outputs": [
        {
          "name": "stdout",
          "output_type": "stream",
          "text": [
            "25\n"
          ]
        }
      ],
      "source": [
        "np.random.seed(3)\n",
        "print(np.random.randint(1,100))"
      ]
    },
    {
      "cell_type": "code",
      "execution_count": 59,
      "metadata": {
        "colab": {
          "base_uri": "https://localhost:8080/"
        },
        "id": "M4bCCrmQRtrr",
        "outputId": "b400177a-dc29-4757-f24e-7be9c34c8abf"
      },
      "outputs": [
        {
          "name": "stdout",
          "output_type": "stream",
          "text": [
            "79\n"
          ]
        }
      ],
      "source": [
        "# it will generate same number (79) just like before! (seed 5)\n",
        "np.random.seed(5)\n",
        "print(np.random.randint(1,100))"
      ]
    },
    {
      "cell_type": "code",
      "execution_count": 60,
      "metadata": {
        "colab": {
          "base_uri": "https://localhost:8080/"
        },
        "id": "2qGXVXQPSBz7",
        "outputId": "c5585f84-18a8-482a-a093-01db917df42e"
      },
      "outputs": [
        {
          "name": "stdout",
          "output_type": "stream",
          "text": [
            "[0 1 0 4 3 0 0 4]\n"
          ]
        }
      ],
      "source": [
        "# to choose 8 numbers in [0,4] or in [0,5)\n",
        "# repeat is allowable!\n",
        "print(np.random.choice(5,8))"
      ]
    },
    {
      "cell_type": "code",
      "execution_count": 61,
      "metadata": {
        "colab": {
          "base_uri": "https://localhost:8080/"
        },
        "id": "R-kZ2sDJS9nY",
        "outputId": "4bce8f9d-8ea5-4c5e-e429-4f2424672998"
      },
      "outputs": [
        {
          "name": "stdout",
          "output_type": "stream",
          "text": [
            "[2 2 3 3 2 3 2 3 2 3]\n"
          ]
        }
      ],
      "source": [
        "# to choose not with same probablity,\n",
        "# to define probablity for choosing each number ->\n",
        "# last argument is a probablity dist with sum:1 .\n",
        "print(np.random.choice(5,10,p=[0,0,0.4,0.6,0]))"
      ]
    },
    {
      "cell_type": "code",
      "execution_count": 62,
      "metadata": {
        "colab": {
          "base_uri": "https://localhost:8080/"
        },
        "id": "r70y_B65U5Z_",
        "outputId": "bcf9a1fc-3f9d-4eb4-b314-097d31e00811"
      },
      "outputs": [
        {
          "name": "stdout",
          "output_type": "stream",
          "text": [
            "[0 3 2]\n"
          ]
        }
      ],
      "source": [
        "# choose numbers randomly but repeat is not allowable!\n",
        "print(np.random.choice(5,3,replace=False))"
      ]
    },
    {
      "cell_type": "code",
      "execution_count": 63,
      "metadata": {
        "colab": {
          "base_uri": "https://localhost:8080/"
        },
        "id": "WTfTCIvkVVIA",
        "outputId": "66f9906b-72a2-4f40-db9a-f44d87fb897d"
      },
      "outputs": [
        {
          "name": "stdout",
          "output_type": "stream",
          "text": [
            "[1 4 3 8 9 5 6 0 7 2]\n"
          ]
        }
      ],
      "source": [
        "# how to generate a permutation with numbers in [0,9]:\n",
        "print(np.random.permutation(10))"
      ]
    },
    {
      "cell_type": "code",
      "execution_count": 64,
      "metadata": {
        "colab": {
          "base_uri": "https://localhost:8080/"
        },
        "id": "XvknqBREVwvI",
        "outputId": "54eaeff9-af20-4c29-91fd-56b8ee322b0f"
      },
      "outputs": [
        {
          "name": "stdout",
          "output_type": "stream",
          "text": [
            "[0 1 2 3 4 5 6 7 8 9]\n",
            "[0 5 6 7 1 9 2 8 3 4]\n"
          ]
        }
      ],
      "source": [
        "# to change order of numbers! ->nueral networks training\n",
        "x = np.arange(10) # start = step = defaults\n",
        "print(x)\n",
        "np.random.shuffle(x)# shuffle is in place!\n",
        "print(x)"
      ]
    },
    {
      "cell_type": "markdown",
      "metadata": {
        "id": "66ijw9BCfhce"
      },
      "source": [
        "# ***How to access array elements :***"
      ]
    },
    {
      "cell_type": "code",
      "execution_count": 65,
      "metadata": {
        "colab": {
          "base_uri": "https://localhost:8080/"
        },
        "id": "Q-KmGpYmfrw7",
        "outputId": "f1734c81-ea83-4611-cb28-a5ab8a991a16"
      },
      "outputs": [
        {
          "name": "stdout",
          "output_type": "stream",
          "text": [
            "8\n",
            "[5 6 7 8]\n",
            "[5 6 7 8]\n",
            "[ 3  7 11]\n"
          ]
        }
      ],
      "source": [
        "A = np.array([[1,2,3,4],[5,6,7,8],[9,10,11,12]])\n",
        "print(A[1,3])\n",
        "print(A[1])\n",
        "print(A[1,:])\n",
        "print(A[:,2])"
      ]
    },
    {
      "cell_type": "code",
      "execution_count": 66,
      "metadata": {
        "colab": {
          "base_uri": "https://localhost:8080/"
        },
        "id": "_Zw2ODHbgz9I",
        "outputId": "09b578a1-08a7-443b-ca5b-1989b22f3138"
      },
      "outputs": [
        {
          "name": "stdout",
          "output_type": "stream",
          "text": [
            "[[2 3]\n",
            " [6 7]]\n"
          ]
        }
      ],
      "source": [
        "# Slicing:\n",
        "B = A[:2,1:3]\n",
        "print(B)"
      ]
    },
    {
      "cell_type": "markdown",
      "metadata": {
        "id": "YbQWDVCcQmdb"
      },
      "source": [
        "# ***operations on numpy arrays:***"
      ]
    },
    {
      "cell_type": "code",
      "execution_count": 67,
      "metadata": {
        "colab": {
          "base_uri": "https://localhost:8080/"
        },
        "id": "sm7S9cnkQyH8",
        "outputId": "644b280f-a475-403f-d2af-83f7b36bec44"
      },
      "outputs": [
        {
          "name": "stdout",
          "output_type": "stream",
          "text": [
            "[[1 2]\n",
            " [3 4]]\n",
            "\n",
            "[[5 6]\n",
            " [7 8]]\n",
            "\n",
            "[[ 6  8]\n",
            " [10 12]]\n",
            "\n",
            "[[ 6  8]\n",
            " [10 12]]\n"
          ]
        }
      ],
      "source": [
        "# Elementwise Sum:\n",
        "x=np.array([[1,2],[3,4]])\n",
        "y=np.array([[5,6],[7,8]])\n",
        "print(x)\n",
        "print()\n",
        "print(y)\n",
        "print()\n",
        "print(x+y)\n",
        "print()\n",
        "print(np.add(x,y))"
      ]
    },
    {
      "cell_type": "code",
      "execution_count": 68,
      "metadata": {
        "colab": {
          "base_uri": "https://localhost:8080/"
        },
        "id": "IU96mFzTRoM3",
        "outputId": "0e27fae8-05ec-44f9-8573-4a48b4b4dee1"
      },
      "outputs": [
        {
          "name": "stdout",
          "output_type": "stream",
          "text": [
            "[[1 2]\n",
            " [3 4]]\n",
            "\n",
            "[[5 6]\n",
            " [7 8]]\n",
            "\n",
            "[[-4 -4]\n",
            " [-4 -4]]\n",
            "\n",
            "[[-4 -4]\n",
            " [-4 -4]]\n"
          ]
        }
      ],
      "source": [
        "# Elementwise Difference:\n",
        "x=np.array([[1,2],[3,4]])\n",
        "y=np.array([[5,6],[7,8]])\n",
        "print(x)\n",
        "print()\n",
        "print(y)\n",
        "print()\n",
        "print(x-y)\n",
        "print()\n",
        "print(np.subtract(x,y))"
      ]
    },
    {
      "cell_type": "code",
      "execution_count": 69,
      "metadata": {
        "colab": {
          "base_uri": "https://localhost:8080/"
        },
        "id": "-fKmajywR2Mu",
        "outputId": "e412ce5a-0d08-4ff4-ce21-a5d23147eff6"
      },
      "outputs": [
        {
          "name": "stdout",
          "output_type": "stream",
          "text": [
            "[[1 2]\n",
            " [3 4]]\n",
            "\n",
            "[[5 6]\n",
            " [7 8]]\n",
            "\n",
            "[[ 5 12]\n",
            " [21 32]]\n",
            "\n",
            "[[ 5 12]\n",
            " [21 32]]\n"
          ]
        }
      ],
      "source": [
        "# Elementwise Product:\n",
        "x=np.array([[1,2],[3,4]])\n",
        "y=np.array([[5,6],[7,8]])\n",
        "print(x)\n",
        "print()\n",
        "print(y)\n",
        "print()\n",
        "print(x*y)\n",
        "print()\n",
        "print(np.multiply(x,y))"
      ]
    },
    {
      "cell_type": "code",
      "execution_count": 70,
      "metadata": {
        "colab": {
          "base_uri": "https://localhost:8080/"
        },
        "id": "wH0HTQ7HSE4X",
        "outputId": "c4b24716-ef37-44e2-958d-41b8032cf7bf"
      },
      "outputs": [
        {
          "name": "stdout",
          "output_type": "stream",
          "text": [
            "[[1 2]\n",
            " [3 4]]\n",
            "\n",
            "[[5 6]\n",
            " [7 8]]\n",
            "\n",
            "[[0.2   0.333]\n",
            " [0.429 0.5  ]]\n",
            "\n",
            "[[0.2   0.333]\n",
            " [0.429 0.5  ]]\n"
          ]
        }
      ],
      "source": [
        "# Elementwise division:\n",
        "x=np.array([[1,2],[3,4]])\n",
        "y=np.array([[5,6],[7,8]])\n",
        "print(x)\n",
        "print()\n",
        "print(y)\n",
        "print()\n",
        "print(x/y)\n",
        "print()\n",
        "print(np.divide(x,y))"
      ]
    },
    {
      "cell_type": "code",
      "execution_count": 71,
      "metadata": {
        "colab": {
          "base_uri": "https://localhost:8080/"
        },
        "id": "jbNVhAljS-PV",
        "outputId": "754971be-a468-4ad2-f1e7-72be86d55a55"
      },
      "outputs": [
        {
          "name": "stdout",
          "output_type": "stream",
          "text": [
            "[[1 2]\n",
            " [3 4]]\n",
            "\n",
            "[[1.    1.414]\n",
            " [1.732 2.   ]]\n"
          ]
        }
      ],
      "source": [
        "# Elementwise Sum:\n",
        "x=np.array([[1,2],[3,4]])\n",
        "print(x)\n",
        "print()\n",
        "print(np.sqrt(x))"
      ]
    },
    {
      "cell_type": "code",
      "execution_count": 72,
      "metadata": {
        "colab": {
          "base_uri": "https://localhost:8080/"
        },
        "id": "jkXTfQ2WTGuj",
        "outputId": "88f354d9-692c-4d93-d187-152c688bfba6"
      },
      "outputs": [
        {
          "name": "stdout",
          "output_type": "stream",
          "text": [
            "[[1 2]\n",
            " [3 4]]\n",
            "\n",
            "[[5 6]\n",
            " [7 8]]\n",
            "\n",
            "[[19 22]\n",
            " [43 50]]\n",
            "\n",
            "[[19 22]\n",
            " [43 50]]\n"
          ]
        }
      ],
      "source": [
        "# Matrix Product:\n",
        "# uses: 1) inner product of vectors \n",
        "# 2) multiple a vector by a matrix\n",
        "# 3) multiple matrices.\n",
        "x=np.array([[1,2],[3,4]])\n",
        "y=np.array([[5,6],[7,8]])\n",
        "print(x)\n",
        "print()\n",
        "print(y)\n",
        "print()\n",
        "print(x.dot(y))\n",
        "print()\n",
        "print(np.dot(x,y))"
      ]
    },
    {
      "cell_type": "code",
      "execution_count": 73,
      "metadata": {
        "colab": {
          "base_uri": "https://localhost:8080/"
        },
        "id": "8taiCZPcUwhF",
        "outputId": "ba47a41a-842e-4c66-f7fd-9487f09021b0"
      },
      "outputs": [
        {
          "name": "stdout",
          "output_type": "stream",
          "text": [
            "[[1 2]\n",
            " [3 4]]\n",
            "\n",
            "[[1 3]\n",
            " [2 4]]\n",
            "\n",
            "[[1 3]\n",
            " [2 4]]\n"
          ]
        }
      ],
      "source": [
        "# Transpose:\n",
        "x=np.array([[1,2],[3,4]])\n",
        "print(x)\n",
        "print()\n",
        "print(x.T)\n",
        "print()\n",
        "print(np.transpose(x))"
      ]
    },
    {
      "attachments": {},
      "cell_type": "markdown",
      "metadata": {},
      "source": [
        "Mathematical and Statistical Useful Functions:"
      ]
    },
    {
      "cell_type": "code",
      "execution_count": 74,
      "metadata": {},
      "outputs": [
        {
          "name": "stdout",
          "output_type": "stream",
          "text": [
            "[[1 2 3]\n",
            " [4 5 6]]\n"
          ]
        }
      ],
      "source": [
        "x = np.array([[1,2,3],[4,5,6]])\n",
        "print(x)"
      ]
    },
    {
      "cell_type": "code",
      "execution_count": 75,
      "metadata": {},
      "outputs": [
        {
          "name": "stdout",
          "output_type": "stream",
          "text": [
            "min = 1\n",
            "max = 6\n",
            "sum = 21\n",
            "prod = 720\n",
            "mean = 3.5\n",
            "std = 1.707825127659933\n",
            "var = 2.9166666666666665\n"
          ]
        }
      ],
      "source": [
        "for func in [x.min,x.max,x.sum,x.prod,x.mean,x.std,x.var]:\n",
        "    print( func.__name__, '=' , func())"
      ]
    },
    {
      "cell_type": "code",
      "execution_count": 76,
      "metadata": {},
      "outputs": [
        {
          "name": "stdout",
          "output_type": "stream",
          "text": [
            "[[1 2 3]\n",
            " [4 5 6]]\n",
            "21\n",
            "[5 7 9]\n",
            "[ 6 15]\n"
          ]
        }
      ],
      "source": [
        "print(x)\n",
        "print(np.sum(x))\n",
        "print(np.sum(x,axis=0)) # vertical (y)\n",
        "print(np.sum(x,axis=1)) # horisontal (x)"
      ]
    },
    {
      "cell_type": "code",
      "execution_count": 77,
      "metadata": {},
      "outputs": [
        {
          "name": "stdout",
          "output_type": "stream",
          "text": [
            "21\n"
          ]
        }
      ],
      "source": [
        "print(np.sum(x,axis=(0,1)))"
      ]
    },
    {
      "attachments": {},
      "cell_type": "markdown",
      "metadata": {},
      "source": [
        "Broadcasting in numpy: when numpy expects arrays in same shape but it is not! numpy applies broadcasting!\n",
        "\n",
        "* Rules of Broadcasting : \n",
        "\n",
        "1- first rule: dimension -> if the arrays do not have the same rank, then a 1 will be prepended to the smaller ranking arrays until their ranks match!\n",
        "\n",
        "2- second rule: shape -> if arrays are in same dimensions but shape of arrays in each dimention is different, then the value will be repeated along that dimention!\n",
        "\n",
        "3- third rule: after applying rule 1 &  rule 2, the sizes of all arrays must match!"
      ]
    },
    {
      "attachments": {},
      "cell_type": "markdown",
      "metadata": {},
      "source": [
        "first rule-> dimentions -> example:"
      ]
    },
    {
      "cell_type": "code",
      "execution_count": 78,
      "metadata": {},
      "outputs": [
        {
          "name": "stdout",
          "output_type": "stream",
          "text": [
            "[[[0 1 2 3 4]]]\n"
          ]
        }
      ],
      "source": [
        "x=np.arange(5).reshape(1,1,5)\n",
        "print(x)"
      ]
    },
    {
      "cell_type": "code",
      "execution_count": 79,
      "metadata": {},
      "outputs": [
        {
          "name": "stdout",
          "output_type": "stream",
          "text": [
            "[10 20 30 40 50]\n"
          ]
        }
      ],
      "source": [
        "y = np.array([10,20,30,40,50])\n",
        "print(y)"
      ]
    },
    {
      "cell_type": "code",
      "execution_count": 80,
      "metadata": {},
      "outputs": [
        {
          "name": "stdout",
          "output_type": "stream",
          "text": [
            "3\n",
            "1\n"
          ]
        }
      ],
      "source": [
        "print(x.ndim)\n",
        "print(y.ndim)"
      ]
    },
    {
      "cell_type": "code",
      "execution_count": 81,
      "metadata": {},
      "outputs": [
        {
          "name": "stdout",
          "output_type": "stream",
          "text": [
            "[[[10 21 32 43 54]]]\n"
          ]
        }
      ],
      "source": [
        "print(x+y)"
      ]
    },
    {
      "attachments": {},
      "cell_type": "markdown",
      "metadata": {},
      "source": [
        "second rule -> shape in each dimention -> example:"
      ]
    },
    {
      "cell_type": "code",
      "execution_count": 82,
      "metadata": {},
      "outputs": [
        {
          "name": "stdout",
          "output_type": "stream",
          "text": [
            "[[0 1 2]\n",
            " [3 4 5]]\n",
            "[[100 101 102]\n",
            " [203 204 205]]\n"
          ]
        }
      ],
      "source": [
        "x = np.arange(6).reshape(2,3) # 2 by 3 array\n",
        "print(x)\n",
        "y = np.array([[100],[200]]) # 2 by 1 array\n",
        "print(x+y)"
      ]
    },
    {
      "attachments": {},
      "cell_type": "markdown",
      "metadata": {},
      "source": [
        "if both of first and second rule wasn't true, then combine of rule 1 , rule 2 will be applied! first rule 1 then rule 2. first dimentions then number of elements in each dimention(shape).\n",
        "see the example:"
      ]
    },
    {
      "cell_type": "code",
      "execution_count": 83,
      "metadata": {},
      "outputs": [
        {
          "name": "stdout",
          "output_type": "stream",
          "text": [
            "2 1\n",
            "(2, 3) (3,)\n",
            "[[0 1 2]\n",
            " [3 4 5]] [100 200 300]\n",
            "[[100 201 302]\n",
            " [103 204 305]]\n"
          ]
        }
      ],
      "source": [
        "x = np.arange(6).reshape(2,3)\n",
        "y = np.array([100,200,300])\n",
        "print(x.ndim,y.ndim)\n",
        "print(x.shape,y.shape)\n",
        "print(x,y)\n",
        "print(x+y)\n",
        "# first with rule 1 -> y : 2 dimention -> then with rule 2 ! "
      ]
    },
    {
      "cell_type": "code",
      "execution_count": 84,
      "metadata": {},
      "outputs": [
        {
          "name": "stdout",
          "output_type": "stream",
          "text": [
            "2 (1, 3)\n"
          ]
        }
      ],
      "source": [
        "#first rule\n",
        "z = np.array([[100,200,300]])\n",
        "print(z.ndim,z.shape)"
      ]
    },
    {
      "cell_type": "code",
      "execution_count": 85,
      "metadata": {},
      "outputs": [
        {
          "name": "stdout",
          "output_type": "stream",
          "text": [
            "2 (2, 3) [[100 200 300]\n",
            " [100 200 300]]\n"
          ]
        }
      ],
      "source": [
        "#second rule\n",
        "v = np.array([[100,200,300],[100,200,300]])\n",
        "print(v.ndim,v.shape,v)"
      ]
    },
    {
      "cell_type": "code",
      "execution_count": 86,
      "metadata": {},
      "outputs": [
        {
          "name": "stdout",
          "output_type": "stream",
          "text": [
            "[[100 201 302]\n",
            " [103 204 305]]\n"
          ]
        }
      ],
      "source": [
        "print(x+v)"
      ]
    },
    {
      "cell_type": "code",
      "execution_count": 87,
      "metadata": {},
      "outputs": [
        {
          "name": "stdout",
          "output_type": "stream",
          "text": [
            "[[ 1  2  3]\n",
            " [ 4  5  6]\n",
            " [ 7  8  9]\n",
            " [10 11 12]]\n",
            "[1 0 1]\n",
            "[[         0 1072693248          0]\n",
            " [1072693248          0 1072693248]\n",
            " [         0 1072693248          0]\n",
            " [1072693248          0 1072693248]]\n",
            "[[ 2  2  4]\n",
            " [ 5  5  7]\n",
            " [ 8  8 10]\n",
            " [11 11 13]]\n",
            "[[ 2  2  4]\n",
            " [ 5  5  7]\n",
            " [ 8  8 10]\n",
            " [11 11 13]]\n"
          ]
        }
      ],
      "source": [
        "x = np.array([[1,2,3],[4,5,6],[7,8,9],[10,11,12]])\n",
        "print(x)\n",
        "v = np.array([1,0,1])\n",
        "print(v)\n",
        "y = np.empty_like(x)\n",
        "print(y)\n",
        "\n",
        "for i in range(4):\n",
        "    y[i,:]=x[i,:]+v\n",
        "print(y)\n",
        "\n",
        "z = x+v\n",
        "print(z)"
      ]
    },
    {
      "attachments": {},
      "cell_type": "markdown",
      "metadata": {},
      "source": [
        "* Conditional Operators: (element-wise)"
      ]
    },
    {
      "cell_type": "code",
      "execution_count": 88,
      "metadata": {},
      "outputs": [
        {
          "name": "stdout",
          "output_type": "stream",
          "text": [
            "[False  True  True False]\n"
          ]
        }
      ],
      "source": [
        "x = np.array([1,2,3,4])\n",
        "print(x<[1,5,6,2])"
      ]
    },
    {
      "cell_type": "code",
      "execution_count": 89,
      "metadata": {},
      "outputs": [
        {
          "name": "stdout",
          "output_type": "stream",
          "text": [
            "[ True  True  True  True]\n"
          ]
        }
      ],
      "source": [
        "print(x<25) # using broadcasting!"
      ]
    },
    {
      "cell_type": "code",
      "execution_count": 90,
      "metadata": {},
      "outputs": [
        {
          "name": "stdout",
          "output_type": "stream",
          "text": [
            "[1 2]\n"
          ]
        }
      ],
      "source": [
        "print(x[x<3]) # boolean indexing!"
      ]
    },
    {
      "cell_type": "code",
      "execution_count": 91,
      "metadata": {},
      "outputs": [
        {
          "name": "stdout",
          "output_type": "stream",
          "text": [
            "[1 3]\n"
          ]
        }
      ],
      "source": [
        "print(x[[True,False,True,False]])"
      ]
    },
    {
      "attachments": {},
      "cell_type": "markdown",
      "metadata": {},
      "source": [
        "Stacking Arrays:"
      ]
    },
    {
      "cell_type": "code",
      "execution_count": 92,
      "metadata": {},
      "outputs": [
        {
          "name": "stdout",
          "output_type": "stream",
          "text": [
            "[[1. 1. 1. 1.]\n",
            " [1. 1. 1. 1.]\n",
            " [1. 1. 1. 1.]]\n",
            "[[2. 2. 2. 2.]\n",
            " [2. 2. 2. 2.]\n",
            " [2. 2. 2. 2.]\n",
            " [2. 2. 2. 2.]]\n",
            "[[3. 3. 3. 3.]\n",
            " [3. 3. 3. 3.]\n",
            " [3. 3. 3. 3.]]\n"
          ]
        }
      ],
      "source": [
        "A = np.full((3,4),1.0)\n",
        "B = np.full((4,4),2.0)\n",
        "C = np.full((3,4),3.0)\n",
        "print(A)\n",
        "print(B)\n",
        "print(C)"
      ]
    },
    {
      "cell_type": "code",
      "execution_count": 93,
      "metadata": {},
      "outputs": [
        {
          "name": "stdout",
          "output_type": "stream",
          "text": [
            "[[1. 1. 1. 1.]\n",
            " [1. 1. 1. 1.]\n",
            " [1. 1. 1. 1.]\n",
            " [2. 2. 2. 2.]\n",
            " [2. 2. 2. 2.]\n",
            " [2. 2. 2. 2.]\n",
            " [2. 2. 2. 2.]\n",
            " [3. 3. 3. 3.]\n",
            " [3. 3. 3. 3.]\n",
            " [3. 3. 3. 3.]]\n"
          ]
        }
      ],
      "source": [
        "# np.vstack :\n",
        "print(np.vstack((A,B,C)))"
      ]
    },
    {
      "cell_type": "code",
      "execution_count": 94,
      "metadata": {},
      "outputs": [
        {
          "name": "stdout",
          "output_type": "stream",
          "text": [
            "[[1. 1. 1. 1. 3. 3. 3. 3.]\n",
            " [1. 1. 1. 1. 3. 3. 3. 3.]\n",
            " [1. 1. 1. 1. 3. 3. 3. 3.]]\n"
          ]
        }
      ],
      "source": [
        "# np.hstack :  Note) Number of rows should match!\n",
        "print(np.hstack((A,C)))"
      ]
    },
    {
      "attachments": {},
      "cell_type": "markdown",
      "metadata": {},
      "source": [
        "Concatenate Function: Stacks arrays along any given axis."
      ]
    },
    {
      "cell_type": "code",
      "execution_count": 95,
      "metadata": {},
      "outputs": [
        {
          "name": "stdout",
          "output_type": "stream",
          "text": [
            "[[1. 1. 1. 1.]\n",
            " [1. 1. 1. 1.]\n",
            " [1. 1. 1. 1.]\n",
            " [2. 2. 2. 2.]\n",
            " [2. 2. 2. 2.]\n",
            " [2. 2. 2. 2.]\n",
            " [2. 2. 2. 2.]\n",
            " [3. 3. 3. 3.]\n",
            " [3. 3. 3. 3.]\n",
            " [3. 3. 3. 3.]]\n"
          ]
        }
      ],
      "source": [
        "D = np.concatenate((A,B,C),axis=0) # axis 0 : Verticaly!\n",
        "print(D)"
      ]
    },
    {
      "cell_type": "code",
      "execution_count": 96,
      "metadata": {},
      "outputs": [
        {
          "name": "stdout",
          "output_type": "stream",
          "text": [
            "[[1. 1. 1. 1. 3. 3. 3. 3.]\n",
            " [1. 1. 1. 1. 3. 3. 3. 3.]\n",
            " [1. 1. 1. 1. 3. 3. 3. 3.]]\n"
          ]
        }
      ],
      "source": [
        "E = np.concatenate((A,C),axis=1)\n",
        "print(E)"
      ]
    },
    {
      "cell_type": "code",
      "execution_count": 97,
      "metadata": {},
      "outputs": [
        {
          "name": "stdout",
          "output_type": "stream",
          "text": [
            "[[[1. 1. 1. 1.]\n",
            "  [1. 1. 1. 1.]\n",
            "  [1. 1. 1. 1.]]\n",
            "\n",
            " [[3. 3. 3. 3.]\n",
            "  [3. 3. 3. 3.]\n",
            "  [3. 3. 3. 3.]]]\n"
          ]
        }
      ],
      "source": [
        "# the stack function, stacks arrays along a new axis. All of the arrays have to have the same shape! \n",
        "# this function will add one unit to dimensions!\n",
        "F = np.stack((A,C))\n",
        "print(F)"
      ]
    },
    {
      "attachments": {},
      "cell_type": "markdown",
      "metadata": {},
      "source": [
        "Transposing Arrays => \n",
        "Transpose method creates new view on an ndarrray's data, with axis permuted in the given order!\n",
        "\n",
        "\n"
      ]
    },
    {
      "cell_type": "code",
      "execution_count": 98,
      "metadata": {},
      "outputs": [
        {
          "name": "stdout",
          "output_type": "stream",
          "text": [
            "[[[ 0  1  2]\n",
            "  [ 3  4  5]]\n",
            "\n",
            " [[ 6  7  8]\n",
            "  [ 9 10 11]]\n",
            "\n",
            " [[12 13 14]\n",
            "  [15 16 17]]\n",
            "\n",
            " [[18 19 20]\n",
            "  [21 22 23]]]\n"
          ]
        }
      ],
      "source": [
        "A = np.arange(24).reshape(4,2,3)\n",
        "print(A)"
      ]
    },
    {
      "cell_type": "code",
      "execution_count": 99,
      "metadata": {},
      "outputs": [
        {
          "name": "stdout",
          "output_type": "stream",
          "text": [
            "[[[ 0  6 12 18]\n",
            "  [ 1  7 13 19]\n",
            "  [ 2  8 14 20]]\n",
            "\n",
            " [[ 3  9 15 21]\n",
            "  [ 4 10 16 22]\n",
            "  [ 5 11 17 23]]]\n"
          ]
        }
      ],
      "source": [
        "# to create an nd-array such that the axes 0,1,2(depth,width,height) are reordered to 1,2,0 \n",
        "# (depth->width , width->height, height->depth) 0,1,2:4,2,3 => 1,2,0:2,3,4\n",
        "B = np.transpose(A,(1,2,0))\n",
        "print(B)"
      ]
    },
    {
      "cell_type": "code",
      "execution_count": 100,
      "metadata": {},
      "outputs": [
        {
          "name": "stdout",
          "output_type": "stream",
          "text": [
            "[[[ 0  6 12 18]\n",
            "  [ 3  9 15 21]]\n",
            "\n",
            " [[ 1  7 13 19]\n",
            "  [ 4 10 16 22]]\n",
            "\n",
            " [[ 2  8 14 20]\n",
            "  [ 5 11 17 23]]]\n"
          ]
        }
      ],
      "source": [
        "# By default, transpose will reverse the order of the dimentions. 0,1,2 => 2,1,0\n",
        "C = np.transpose(A)\n",
        "print(C)"
      ]
    },
    {
      "attachments": {},
      "cell_type": "markdown",
      "metadata": {},
      "source": [
        "Saving and Loading:"
      ]
    },
    {
      "cell_type": "code",
      "execution_count": 101,
      "metadata": {},
      "outputs": [
        {
          "name": "stdout",
          "output_type": "stream",
          "text": [
            "[[0.843 0.616 0.563]\n",
            " [0.368 0.691 0.816]]\n"
          ]
        }
      ],
      "source": [
        "# Save in Binary Format(.npy):\n",
        "A = np.random.rand(2,3)\n",
        "print(A)\n",
        "np.save('randomArray',A)"
      ]
    },
    {
      "cell_type": "code",
      "execution_count": 102,
      "metadata": {},
      "outputs": [
        {
          "name": "stdout",
          "output_type": "stream",
          "text": [
            "[[0.843 0.616 0.563]\n",
            " [0.368 0.691 0.816]]\n"
          ]
        }
      ],
      "source": [
        "# load :\n",
        "B = np.load('randomArray.npy')\n",
        "print(B)"
      ]
    },
    {
      "cell_type": "code",
      "execution_count": 103,
      "metadata": {},
      "outputs": [
        {
          "name": "stdout",
          "output_type": "stream",
          "text": [
            "[[0.843 0.616 0.563]\n",
            " [0.368 0.691 0.816]]\n"
          ]
        }
      ],
      "source": [
        "# Save In Text Format: (by default delimiter in csv file is space)\n",
        "np.savetxt('randomArray.csv',A)\n",
        "# Load:\n",
        "B=np.loadtxt('randomArray.csv')\n",
        "print(B)"
      ]
    },
    {
      "cell_type": "code",
      "execution_count": 104,
      "metadata": {},
      "outputs": [
        {
          "name": "stdout",
          "output_type": "stream",
          "text": [
            "[[0.843 0.616 0.563]\n",
            " [0.368 0.691 0.816]]\n"
          ]
        }
      ],
      "source": [
        "# save in text format by camma as delimiter:\n",
        "np.savetxt('random-array.csv',A,delimiter=',')\n",
        "B = np.loadtxt('random-array.csv',delimiter=',')\n",
        "print(B)"
      ]
    },
    {
      "attachments": {},
      "cell_type": "markdown",
      "metadata": {},
      "source": [
        "# Now I am going to add numpy to my skills!"
      ]
    }
  ],
  "metadata": {
    "colab": {
      "provenance": []
    },
    "kernelspec": {
      "display_name": "Python 3",
      "name": "python3"
    },
    "language_info": {
      "codemirror_mode": {
        "name": "ipython",
        "version": 3
      },
      "file_extension": ".py",
      "mimetype": "text/x-python",
      "name": "python",
      "nbconvert_exporter": "python",
      "pygments_lexer": "ipython3",
      "version": "3.8.1"
    }
  },
  "nbformat": 4,
  "nbformat_minor": 0
}
